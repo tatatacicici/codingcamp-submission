{
 "nbformat": 4,
 "nbformat_minor": 0,
 "metadata": {
  "colab": {
   "provenance": []
  },
  "kernelspec": {
   "name": "python3",
   "language": "python",
   "display_name": "Python 3 (ipykernel)"
  },
  "language_info": {
   "name": "python"
  }
 },
 "cells": [
  {
   "cell_type": "markdown",
   "source": [
    "# **1. Import Library**"
   ],
   "metadata": {
    "id": "fKADPWcFKlj3"
   }
  },
  {
   "cell_type": "markdown",
   "source": [
    "Pada tahap ini, Anda perlu mengimpor beberapa pustaka (library) Python yang dibutuhkan untuk analisis data dan pembangunan model machine learning."
   ],
   "metadata": {
    "id": "LgA3ERnVn84N"
   }
  },
  {
   "cell_type": "code",
   "source": [
    "#Type your code here\n",
    "import numpy as np\n",
    "import pandas as pd\n",
    "\n",
    "from sklearn.model_selection import train_test_split, cross_val_score, StratifiedKFold\n",
    "from sklearn.preprocessing import RobustScaler\n",
    "\n",
    "from sklearn.svm import SVC\n",
    "from sklearn.neighbors import KNeighborsClassifier\n",
    "\n",
    "from sklearn.metrics import accuracy_score, classification_report, confusion_matrix, f1_score, recall_score, precision_score\n",
    "from imblearn.over_sampling import SMOTE"
   ],
   "metadata": {
    "id": "BlmvjLY9M4Yj",
    "ExecuteTime": {
     "end_time": "2025-03-28T19:13:41.922942800Z",
     "start_time": "2025-03-28T19:13:40.835385800Z"
    }
   },
   "execution_count": 21,
   "outputs": []
  },
  {
   "cell_type": "markdown",
   "source": [
    "# **2. Memuat Dataset dari Hasil Clustering**"
   ],
   "metadata": {
    "id": "f3YIEnAFKrKL"
   }
  },
  {
   "cell_type": "markdown",
   "source": [
    "Memuat dataset hasil clustering dari file CSV ke dalam variabel DataFrame."
   ],
   "metadata": {
    "id": "Ey3ItwTen_7E"
   }
  },
  {
   "cell_type": "code",
   "source": [
    "#Type your code here\n",
    "classification_df = pd.read_csv('Dataset_clustering.csv')\n",
    "\n",
    "classification_df.head(5)"
   ],
   "metadata": {
    "id": "GHCGNTyrM5fS",
    "ExecuteTime": {
     "end_time": "2025-03-28T18:46:00.271586500Z",
     "start_time": "2025-03-28T18:46:00.200776200Z"
    }
   },
   "execution_count": 4,
   "outputs": [
    {
     "data": {
      "text/plain": "  CUST_ID      BALANCE  BALANCE_FREQUENCY  PURCHASES  ONEOFF_PURCHASES  \\\n0  C10001    40.900749           0.818182      95.40              0.00   \n1  C10002  3202.467416           0.909091       0.00              0.00   \n2  C10003  2495.148862           1.000000     773.17            773.17   \n3  C10004  1666.670542           0.636364    1499.00           1499.00   \n4  C10005   817.714335           1.000000      16.00             16.00   \n\n   INSTALLMENTS_PURCHASES  CASH_ADVANCE  PURCHASES_FREQUENCY  \\\n0                    95.4      0.000000             0.166667   \n1                     0.0   6442.945483             0.000000   \n2                     0.0      0.000000             1.000000   \n3                     0.0    205.788017             0.083333   \n4                     0.0      0.000000             0.083333   \n\n   ONEOFF_PURCHASES_FREQUENCY  PURCHASES_INSTALLMENTS_FREQUENCY  ...  \\\n0                    0.000000                          0.083333  ...   \n1                    0.000000                          0.000000  ...   \n2                    1.000000                          0.000000  ...   \n3                    0.083333                          0.000000  ...   \n4                    0.083333                          0.000000  ...   \n\n   PURCHASES_TRX     PAYMENTS  MINIMUM_PAYMENTS  TENURE_BIN_Menengah  \\\n0            2.0   201.802084        139.509787                    0   \n1            0.0  4103.032597       1072.340217                    0   \n2           12.0   622.066742        627.284787                    0   \n3            1.0     0.000000        312.343947                    0   \n4            1.0   678.334763        244.791237                    0   \n\n   TENURE_BIN_Lama  CREDIT_LIMIT_BIN_Medium  CREDIT_LIMIT_BIN_High  \\\n0                1                        0                      0   \n1                1                        0                      1   \n2                1                        0                      1   \n3                1                        0                      1   \n4                1                        0                      0   \n\n   PRC_FULL_PAYMENT_BIN_Kadang-kadang  PRC_FULL_PAYMENT_BIN_Selalu  CLUSTER  \n0                                   0                            0        1  \n1                                   1                            0        1  \n2                                   0                            0        1  \n3                                   0                            0        1  \n4                                   0                            0        1  \n\n[5 rows x 22 columns]",
      "text/html": "<div>\n<style scoped>\n    .dataframe tbody tr th:only-of-type {\n        vertical-align: middle;\n    }\n\n    .dataframe tbody tr th {\n        vertical-align: top;\n    }\n\n    .dataframe thead th {\n        text-align: right;\n    }\n</style>\n<table border=\"1\" class=\"dataframe\">\n  <thead>\n    <tr style=\"text-align: right;\">\n      <th></th>\n      <th>CUST_ID</th>\n      <th>BALANCE</th>\n      <th>BALANCE_FREQUENCY</th>\n      <th>PURCHASES</th>\n      <th>ONEOFF_PURCHASES</th>\n      <th>INSTALLMENTS_PURCHASES</th>\n      <th>CASH_ADVANCE</th>\n      <th>PURCHASES_FREQUENCY</th>\n      <th>ONEOFF_PURCHASES_FREQUENCY</th>\n      <th>PURCHASES_INSTALLMENTS_FREQUENCY</th>\n      <th>...</th>\n      <th>PURCHASES_TRX</th>\n      <th>PAYMENTS</th>\n      <th>MINIMUM_PAYMENTS</th>\n      <th>TENURE_BIN_Menengah</th>\n      <th>TENURE_BIN_Lama</th>\n      <th>CREDIT_LIMIT_BIN_Medium</th>\n      <th>CREDIT_LIMIT_BIN_High</th>\n      <th>PRC_FULL_PAYMENT_BIN_Kadang-kadang</th>\n      <th>PRC_FULL_PAYMENT_BIN_Selalu</th>\n      <th>CLUSTER</th>\n    </tr>\n  </thead>\n  <tbody>\n    <tr>\n      <th>0</th>\n      <td>C10001</td>\n      <td>40.900749</td>\n      <td>0.818182</td>\n      <td>95.40</td>\n      <td>0.00</td>\n      <td>95.4</td>\n      <td>0.000000</td>\n      <td>0.166667</td>\n      <td>0.000000</td>\n      <td>0.083333</td>\n      <td>...</td>\n      <td>2.0</td>\n      <td>201.802084</td>\n      <td>139.509787</td>\n      <td>0</td>\n      <td>1</td>\n      <td>0</td>\n      <td>0</td>\n      <td>0</td>\n      <td>0</td>\n      <td>1</td>\n    </tr>\n    <tr>\n      <th>1</th>\n      <td>C10002</td>\n      <td>3202.467416</td>\n      <td>0.909091</td>\n      <td>0.00</td>\n      <td>0.00</td>\n      <td>0.0</td>\n      <td>6442.945483</td>\n      <td>0.000000</td>\n      <td>0.000000</td>\n      <td>0.000000</td>\n      <td>...</td>\n      <td>0.0</td>\n      <td>4103.032597</td>\n      <td>1072.340217</td>\n      <td>0</td>\n      <td>1</td>\n      <td>0</td>\n      <td>1</td>\n      <td>1</td>\n      <td>0</td>\n      <td>1</td>\n    </tr>\n    <tr>\n      <th>2</th>\n      <td>C10003</td>\n      <td>2495.148862</td>\n      <td>1.000000</td>\n      <td>773.17</td>\n      <td>773.17</td>\n      <td>0.0</td>\n      <td>0.000000</td>\n      <td>1.000000</td>\n      <td>1.000000</td>\n      <td>0.000000</td>\n      <td>...</td>\n      <td>12.0</td>\n      <td>622.066742</td>\n      <td>627.284787</td>\n      <td>0</td>\n      <td>1</td>\n      <td>0</td>\n      <td>1</td>\n      <td>0</td>\n      <td>0</td>\n      <td>1</td>\n    </tr>\n    <tr>\n      <th>3</th>\n      <td>C10004</td>\n      <td>1666.670542</td>\n      <td>0.636364</td>\n      <td>1499.00</td>\n      <td>1499.00</td>\n      <td>0.0</td>\n      <td>205.788017</td>\n      <td>0.083333</td>\n      <td>0.083333</td>\n      <td>0.000000</td>\n      <td>...</td>\n      <td>1.0</td>\n      <td>0.000000</td>\n      <td>312.343947</td>\n      <td>0</td>\n      <td>1</td>\n      <td>0</td>\n      <td>1</td>\n      <td>0</td>\n      <td>0</td>\n      <td>1</td>\n    </tr>\n    <tr>\n      <th>4</th>\n      <td>C10005</td>\n      <td>817.714335</td>\n      <td>1.000000</td>\n      <td>16.00</td>\n      <td>16.00</td>\n      <td>0.0</td>\n      <td>0.000000</td>\n      <td>0.083333</td>\n      <td>0.083333</td>\n      <td>0.000000</td>\n      <td>...</td>\n      <td>1.0</td>\n      <td>678.334763</td>\n      <td>244.791237</td>\n      <td>0</td>\n      <td>1</td>\n      <td>0</td>\n      <td>0</td>\n      <td>0</td>\n      <td>0</td>\n      <td>1</td>\n    </tr>\n  </tbody>\n</table>\n<p>5 rows × 22 columns</p>\n</div>"
     },
     "execution_count": 4,
     "metadata": {},
     "output_type": "execute_result"
    }
   ]
  },
  {
   "cell_type": "markdown",
   "source": [
    "# **3. Data Splitting**"
   ],
   "metadata": {
    "id": "KkPem5eWL2UP"
   }
  },
  {
   "cell_type": "code",
   "outputs": [
    {
     "name": "stdout",
     "output_type": "stream",
     "text": [
      "['CUST_ID', 'BALANCE', 'BALANCE_FREQUENCY', 'PURCHASES', 'ONEOFF_PURCHASES', 'INSTALLMENTS_PURCHASES', 'CASH_ADVANCE', 'PURCHASES_FREQUENCY', 'ONEOFF_PURCHASES_FREQUENCY', 'PURCHASES_INSTALLMENTS_FREQUENCY', 'CASH_ADVANCE_FREQUENCY', 'CASH_ADVANCE_TRX', 'PURCHASES_TRX', 'PAYMENTS', 'MINIMUM_PAYMENTS', 'TENURE_BIN_Menengah', 'TENURE_BIN_Lama', 'CREDIT_LIMIT_BIN_Medium', 'CREDIT_LIMIT_BIN_High', 'PRC_FULL_PAYMENT_BIN_Kadang-kadang', 'PRC_FULL_PAYMENT_BIN_Selalu', 'CLUSTER']\n"
     ]
    }
   ],
   "source": [
    "print(classification_df.columns.tolist())\n"
   ],
   "metadata": {
    "collapsed": false,
    "ExecuteTime": {
     "end_time": "2025-03-28T18:54:07.891728100Z",
     "start_time": "2025-03-28T18:54:07.881181200Z"
    }
   },
   "execution_count": 10
  },
  {
   "cell_type": "markdown",
   "source": [
    "Tahap Data Splitting bertujuan untuk memisahkan dataset menjadi dua bagian: data latih (training set) dan data uji (test set)."
   ],
   "metadata": {
    "id": "YYj1rl_JNI9Y"
   }
  },
  {
   "cell_type": "code",
   "source": [
    "#Type your code here\n",
    "X = classification_df.drop(columns=['CLUSTER','CUST_ID'])\n",
    "y = classification_df['CLUSTER']\n",
    "\n",
    "# Split dataset (80% train, 20% test)\n",
    "X_train, X_test, y_train, y_test = train_test_split(X, y, test_size=0.2, random_state=42, stratify=y)"
   ],
   "metadata": {
    "id": "OubAW-7ONKVj"
   },
   "execution_count": null,
   "outputs": []
  },
  {
   "cell_type": "code",
   "outputs": [],
   "source": [
    "number_cols = classification_df.select_dtypes(include=['number']).columns.tolist()\n",
    "excluded_cols = ['CLUSTER','TENURE_BIN_Lama','TENURE_BIN_Baru', 'TENURE_BIN_Menengah', 'CREDIT_LIMIT_BIN_Low', \n",
    "                'CREDIT_LIMIT_BIN_Medium','CREDIT_LIMIT_BIN_High', 'PRC_FULL_PAYMENT_BIN_Tidak Pernah', \n",
    "                'PRC_FULL_PAYMENT_BIN_Kadang-kadang','PRC_FULL_PAYMENT_BIN_Selalu']  # Sesuaikan dengan hasil encoding\n",
    "\n",
    "number_cols = [col for col in number_cols if col not in excluded_cols]\n",
    "\n",
    "# Inisialisasi RobustScaler\n",
    "scaler = RobustScaler()\n",
    "\n",
    "# Scaling hanya fitur numerik\n",
    "X_train_scaled = X_train.copy()\n",
    "X_test_scaled = X_test.copy()\n",
    "\n",
    "X_train_scaled[number_cols] = scaler.fit_transform(X_train[number_cols])\n",
    "X_test_scaled[number_cols] = scaler.transform(X_test[number_cols])  "
   ],
   "metadata": {
    "collapsed": false,
    "ExecuteTime": {
     "end_time": "2025-03-28T18:55:26.846663600Z",
     "start_time": "2025-03-28T18:55:26.822530700Z"
    }
   },
   "execution_count": 14
  },
  {
   "cell_type": "markdown",
   "source": [
    "# **4. Membangun Model Klasifikasi**\n"
   ],
   "metadata": {
    "id": "IVPbB03CMhTT"
   }
  },
  {
   "cell_type": "markdown",
   "source": [
    "## **a. Membangun Model Klasifikasi**"
   ],
   "metadata": {
    "id": "Ned1pL9zMmBK"
   }
  },
  {
   "cell_type": "markdown",
   "source": [
    "Setelah memilih algoritma klasifikasi yang sesuai, langkah selanjutnya adalah melatih model menggunakan data latih.\n",
    "\n",
    "Berikut adalah rekomendasi tahapannya.\n",
    "1. Pilih algoritma klasifikasi yang sesuai, seperti Logistic Regression, Decision Tree, Random Forest, atau K-Nearest Neighbors (KNN).\n",
    "2. Latih model menggunakan data latih."
   ],
   "metadata": {
    "id": "WAWzPOE4Nkti"
   }
  },
  {
   "cell_type": "code",
   "source": [
    "#Type your code here\n",
    "#inisisasi model\n",
    "models = {\n",
    "    \"SVM\": SVC(kernel='rbf', C=1, random_state=42),\n",
    "    \"KNN\": KNeighborsClassifier(n_neighbors=5),\n",
    "}\n",
    "\n",
    "#inisiasi K-Fold = 5-fold\n",
    "cv = StratifiedKFold(n_splits=5, shuffle=True, random_state=42)"
   ],
   "metadata": {
    "id": "4JYxBe87NLDk",
    "ExecuteTime": {
     "end_time": "2025-03-28T19:01:11.955032200Z",
     "start_time": "2025-03-28T19:01:11.937953900Z"
    }
   },
   "execution_count": 17,
   "outputs": []
  },
  {
   "cell_type": "markdown",
   "source": [],
   "metadata": {
    "collapsed": false
   }
  },
  {
   "cell_type": "markdown",
   "source": [
    "Tulis narasi atau penjelasan algoritma yang Anda gunakan.\n",
    "\n",
    "Algoritma yang saya pakai adalah \n",
    "SVM, KNN, Decision Tree\n",
    "1. SVM\n",
    "Algoritma bekerja dengan menemukan hyperplane terbaik yang dapat memisahkan kelas-kelas dalam data. Dalam percobaan ini:\n",
    "  - Saya menggunakan kernel RBF yang mampu menangani data yang tidak terpisah secara linear\n",
    "2. K-NN\n",
    "algoritma ini menghitung jarak antara data yang akan diklasifikasikan dengan data yang sudah ada"
   ],
   "metadata": {
    "id": "seYoHNY3XU1y"
   }
  },
  {
   "cell_type": "markdown",
   "source": [
    "## **b. Evaluasi Model Klasifikasi**"
   ],
   "metadata": {
    "id": "ergzChZFEL-O"
   }
  },
  {
   "cell_type": "markdown",
   "source": [
    "Berikut adalah **rekomendasi** tahapannya.\n",
    "1. Lakukan prediksi menggunakan data uji.\n",
    "2. Hitung metrik evaluasi seperti Accuracy dan F1-Score (Opsional: Precision dan Recall).\n",
    "3. Buat confusion matrix untuk melihat detail prediksi benar dan salah."
   ],
   "metadata": {
    "id": "zOm68u-7NpLT"
   }
  },
  {
   "cell_type": "code",
   "source": [
    "#Type your code here\n",
    "# Training dengan Cross-Validation\n",
    "for name, model in models.items():\n",
    "    scores = cross_val_score(model, X_train_scaled, y_train, cv=cv, scoring='accuracy')\n",
    "    print(f\"{name} - CV Accuracy: {np.mean(scores):.4f} ± {np.std(scores):.4f}\")\n",
    "\n",
    "    # Training model pada full training set\n",
    "    model.fit(X_train_scaled, y_train)\n",
    "\n",
    "    # Prediksi pada test set\n",
    "    y_pred = model.predict(X_test_scaled)\n",
    "\n",
    "    # Evaluasi model\n",
    "    acc = accuracy_score(y_test, y_pred)\n",
    "    precision = precision_score(y_test, y_pred, average='macro')\n",
    "    recall = recall_score(y_test, y_pred, average='macro')\n",
    "    f1 = f1_score(y_test, y_pred, average='macro')\n",
    "\n",
    "    print(f\"\\nEvaluasi pada Test Set - {name}:\")\n",
    "    print(f\"Accuracy: {acc:.4f}\")\n",
    "    print(f\"Precision: {precision:.4f}\")\n",
    "    print(f\"Recall: {recall:.4f}\")\n",
    "    print(f\"F1 Score: {f1:.4f}\")\n",
    "    print(\"\\nConfusion Matrix:\")\n",
    "    print(confusion_matrix(y_test, y_pred))\n",
    "    print(\"\\nClassification Report:\")\n",
    "    print(classification_report(y_test, y_pred))\n",
    "    print(\"=\"*50)"
   ],
   "metadata": {
    "id": "tMq4QAssNLip",
    "ExecuteTime": {
     "end_time": "2025-03-28T19:11:01.529053500Z",
     "start_time": "2025-03-28T19:10:59.317729500Z"
    }
   },
   "execution_count": 20,
   "outputs": [
    {
     "name": "stdout",
     "output_type": "stream",
     "text": [
      "SVM - CV Accuracy: 0.9973 ± 0.0013\n",
      "\n",
      "Evaluasi pada Test Set - SVM:\n",
      "Accuracy: 0.9961\n",
      "Precision: 0.9746\n",
      "Recall: 0.9674\n",
      "F1 Score: 0.9710\n",
      "\n",
      "Confusion Matrix:\n",
      "[[  59    4]\n",
      " [   3 1724]]\n",
      "\n",
      "Classification Report:\n",
      "              precision    recall  f1-score   support\n",
      "\n",
      "           0       0.95      0.94      0.94        63\n",
      "           1       1.00      1.00      1.00      1727\n",
      "\n",
      "    accuracy                           1.00      1790\n",
      "   macro avg       0.97      0.97      0.97      1790\n",
      "weighted avg       1.00      1.00      1.00      1790\n",
      "\n",
      "==================================================\n",
      "KNN - CV Accuracy: 0.9940 ± 0.0014\n",
      "\n",
      "Evaluasi pada Test Set - KNN:\n",
      "Accuracy: 0.9899\n",
      "Precision: 0.9663\n",
      "Recall: 0.8801\n",
      "F1 Score: 0.9185\n",
      "\n",
      "Confusion Matrix:\n",
      "[[  48   15]\n",
      " [   3 1724]]\n",
      "\n",
      "Classification Report:\n",
      "              precision    recall  f1-score   support\n",
      "\n",
      "           0       0.94      0.76      0.84        63\n",
      "           1       0.99      1.00      0.99      1727\n",
      "\n",
      "    accuracy                           0.99      1790\n",
      "   macro avg       0.97      0.88      0.92      1790\n",
      "weighted avg       0.99      0.99      0.99      1790\n",
      "\n",
      "==================================================\n",
      "Decision Tree - CV Accuracy: 0.9951 ± 0.0021\n",
      "\n",
      "Evaluasi pada Test Set - Decision Tree:\n",
      "Accuracy: 0.9972\n",
      "Precision: 0.9986\n",
      "Recall: 0.9603\n",
      "F1 Score: 0.9786\n",
      "\n",
      "Confusion Matrix:\n",
      "[[  58    5]\n",
      " [   0 1727]]\n",
      "\n",
      "Classification Report:\n",
      "              precision    recall  f1-score   support\n",
      "\n",
      "           0       1.00      0.92      0.96        63\n",
      "           1       1.00      1.00      1.00      1727\n",
      "\n",
      "    accuracy                           1.00      1790\n",
      "   macro avg       1.00      0.96      0.98      1790\n",
      "weighted avg       1.00      1.00      1.00      1790\n",
      "\n",
      "==================================================\n"
     ]
    }
   ]
  },
  {
   "cell_type": "markdown",
   "source": [
    "Tulis hasil evaluasi algoritma yang digunakan, jika Anda menggunakan 2 algoritma, maka bandingkan hasilnya.\n",
    "Hasil Evaluasinya\n",
    "SVM:\n",
    "Evaluasi pada Test Set - SVM:\n",
    "Accuracy: 0.9961\n",
    "Precision: 0.9746\n",
    "Recall: 0.9674\n",
    "F1 Score: 0.9710\n",
    "\n",
    "KNN:\n",
    "Evaluasi pada Test Set - KNN:\n",
    "Accuracy: 0.9899\n",
    "Precision: 0.9663\n",
    "Recall: 0.8801\n",
    "F1 Score: 0.9185"
   ],
   "metadata": {
    "id": "H4_9OwrsXZlz"
   }
  },
  {
   "cell_type": "markdown",
   "source": [
    "## **c. Tuning Model Klasifikasi (Optional)**"
   ],
   "metadata": {
    "id": "ph9yIYDXEPuB"
   }
  },
  {
   "cell_type": "markdown",
   "source": [
    "Gunakan GridSearchCV, RandomizedSearchCV, atau metode lainnya untuk mencari kombinasi hyperparameter terbaik"
   ],
   "metadata": {
    "id": "-Bikx3LINv5e"
   }
  },
  {
   "cell_type": "markdown",
   "source": [
    "kedua hasil nya terlalu baik dan overfitting, jadi disini saya akan menggunakan SMOTE  untuk coba mengurangi hasilnya serta regularisasi  "
   ],
   "metadata": {
    "collapsed": false
   }
  },
  {
   "cell_type": "code",
   "source": [
    "#Type your code here\n",
    "# SMOTE untuk balancing data\n",
    "smote = SMOTE(random_state=42)\n",
    "X_train_resampled, y_train_resampled = smote.fit_resample(X_train_scaled, y_train)\n",
    "\n",
    "models = {\n",
    "    \"SVM\": SVC(kernel='rbf', C=0.1, class_weight=\"balanced\", random_state=42),\n",
    "    \"KNN\": KNeighborsClassifier(n_neighbors=10),\n",
    "}\n",
    "cv = StratifiedKFold(n_splits=5, shuffle=True, random_state=42)"
   ],
   "metadata": {
    "id": "winbFzb8NL95",
    "ExecuteTime": {
     "end_time": "2025-03-28T19:17:07.477248200Z",
     "start_time": "2025-03-28T19:17:07.436089Z"
    }
   },
   "execution_count": 22,
   "outputs": []
  },
  {
   "cell_type": "markdown",
   "source": [
    "## **d. Evaluasi Model Klasifikasi setelah Tuning (Optional)**"
   ],
   "metadata": {
    "id": "hE7pqlEPEYzI"
   }
  },
  {
   "cell_type": "markdown",
   "source": [
    "Berikut adalah rekomendasi tahapannya.\n",
    "1. Gunakan model dengan hyperparameter terbaik.\n",
    "2. Hitung ulang metrik evaluasi untuk melihat apakah ada peningkatan performa."
   ],
   "metadata": {
    "id": "feaPESoeN0zz"
   }
  },
  {
   "cell_type": "code",
   "source": [
    "#Type your code here\n",
    "for name, model in models.items():\n",
    "    scores = cross_val_score(model, X_train_resampled, y_train_resampled, cv=cv, scoring='accuracy')\n",
    "    print(f\"{name} - CV Accuracy: {np.mean(scores):.4f} ± {np.std(scores):.4f}\")\n",
    "\n",
    "    # Training model pada full training set\n",
    "    model.fit(X_train_resampled, y_train_resampled)\n",
    "\n",
    "    # Prediksi pada test set\n",
    "    y_pred = model.predict(X_test_scaled)\n",
    "\n",
    "    # Evaluasi model\n",
    "    acc = accuracy_score(y_test, y_pred)\n",
    "    precision = precision_score(y_test, y_pred, average='macro')\n",
    "    recall = recall_score(y_test, y_pred, average='macro')\n",
    "    f1 = f1_score(y_test, y_pred, average='macro')\n",
    "\n",
    "    print(f\"\\nEvaluasi pada Test Set - {name}:\")\n",
    "    print(f\"Accuracy: {acc:.4f}\")\n",
    "    print(f\"Precision: {precision:.4f}\")\n",
    "    print(f\"Recall: {recall:.4f}\")\n",
    "    print(f\"F1 Score: {f1:.4f}\")\n",
    "    print(\"\\nConfusion Matrix:\")\n",
    "    print(confusion_matrix(y_test, y_pred))\n",
    "    print(\"\\nClassification Report:\")\n",
    "    print(classification_report(y_test, y_pred))\n",
    "    print(\"=\"*50)"
   ],
   "metadata": {
    "id": "HTXZRvEeNMb1",
    "ExecuteTime": {
     "end_time": "2025-03-28T19:17:14.240044500Z",
     "start_time": "2025-03-28T19:17:10.114266900Z"
    }
   },
   "execution_count": 23,
   "outputs": [
    {
     "name": "stdout",
     "output_type": "stream",
     "text": [
      "SVM - CV Accuracy: 0.9908 ± 0.0013\n",
      "\n",
      "Evaluasi pada Test Set - SVM:\n",
      "Accuracy: 0.9849\n",
      "Precision: 0.8500\n",
      "Recall: 0.9922\n",
      "F1 Score: 0.9078\n",
      "\n",
      "Confusion Matrix:\n",
      "[[  63    0]\n",
      " [  27 1700]]\n",
      "\n",
      "Classification Report:\n",
      "              precision    recall  f1-score   support\n",
      "\n",
      "           0       0.70      1.00      0.82        63\n",
      "           1       1.00      0.98      0.99      1727\n",
      "\n",
      "    accuracy                           0.98      1790\n",
      "   macro avg       0.85      0.99      0.91      1790\n",
      "weighted avg       0.99      0.98      0.99      1790\n",
      "\n",
      "==================================================\n",
      "KNN - CV Accuracy: 0.9923 ± 0.0014\n",
      "\n",
      "Evaluasi pada Test Set - KNN:\n",
      "Accuracy: 0.9860\n",
      "Precision: 0.8602\n",
      "Recall: 0.9851\n",
      "F1 Score: 0.9125\n",
      "\n",
      "Confusion Matrix:\n",
      "[[  62    1]\n",
      " [  24 1703]]\n",
      "\n",
      "Classification Report:\n",
      "              precision    recall  f1-score   support\n",
      "\n",
      "           0       0.72      0.98      0.83        63\n",
      "           1       1.00      0.99      0.99      1727\n",
      "\n",
      "    accuracy                           0.99      1790\n",
      "   macro avg       0.86      0.99      0.91      1790\n",
      "weighted avg       0.99      0.99      0.99      1790\n",
      "\n",
      "==================================================\n"
     ]
    }
   ]
  },
  {
   "cell_type": "markdown",
   "source": [
    "## **e. Analisis Hasil Evaluasi Model Klasifikasi**"
   ],
   "metadata": {
    "id": "ZRsOdm4uEgAW"
   }
  },
  {
   "cell_type": "markdown",
   "source": [
    "/Berikut adalah **rekomendasi** tahapannya.\n",
    "1. Bandingkan hasil evaluasi sebelum dan setelah tuning (jika dilakukan).\n",
    "2. Identifikasi kelemahan model, seperti:\n",
    "  - Precision atau Recall rendah untuk kelas tertentu.\n",
    "  - Apakah model mengalami overfitting atau underfitting?\n",
    "3. Berikan rekomendasi tindakan lanjutan, seperti mengumpulkan data tambahan atau mencoba algoritma lain jika hasil belum memuaskan.\n",
    "\n",
    "Jawab:\n",
    "1. Setelah melakukan tuning, model mengalami sedikit peningkatan akurasi dan metrik lainnya, tetapi ada beberapa trade-off:\n",
    "- SVM: Akurasi tetap tinggi, tetapi precision untuk kelas 0 sedikit menurun.\n",
    "- KNN: Mengalami peningkatan recall dan precision dibanding sebelumnya.\n",
    "2. Identifikasi kelemahan model\n",
    "- model memilii recall tinggi tetapi precision untuk kelas 0 masih dapat ditingkatkna\n",
    "- ada kemungkinan model condong untuk mengklasifikasi data sebagai kelas mayoritas\n",
    "- potensi overfitting masih besar\n",
    "3. Rekomendasi\n",
    "- Coba untuk menggunakan hyperparameter tuning, seperti Gridsearch. disini saya tidak bisa menggunakan karena komputasi yang memakan waktu besar"
   ],
   "metadata": {
    "id": "Hm3BhSi6N4_l"
   }
  },
  {
   "cell_type": "code",
   "outputs": [],
   "source": [],
   "metadata": {
    "collapsed": false
   }
  }
 ]
}
