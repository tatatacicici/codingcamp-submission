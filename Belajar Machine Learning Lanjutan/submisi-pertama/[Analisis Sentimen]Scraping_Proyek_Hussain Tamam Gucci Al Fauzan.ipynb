{
 "cells": [
  {
   "cell_type": "markdown",
   "source": [
    "# Proyek Analisis Sentimen\n",
    "## Scrapping  \n",
    "scrapping review game Kingdom Two Crowns pada platform Steam"
   ],
   "metadata": {
    "collapsed": false
   },
   "id": "68926ea969b7b5ef"
  },
  {
   "cell_type": "markdown",
   "source": [
    "## Mengimpor Library"
   ],
   "metadata": {
    "collapsed": false
   },
   "id": "56cfd0a1d58265d7"
  },
  {
   "cell_type": "code",
   "execution_count": 6,
   "id": "initial_id",
   "metadata": {
    "collapsed": true,
    "ExecuteTime": {
     "end_time": "2025-04-08T14:53:02.915250500Z",
     "start_time": "2025-04-08T14:53:02.566701700Z"
    }
   },
   "outputs": [],
   "source": [
    "import pandas as pd\n",
    "from steamreviews import download_reviews_for_app_id"
   ]
  },
  {
   "cell_type": "code",
   "outputs": [],
   "source": [
    "pd.options.mode.chained_assignment = None  # Menonaktifkan peringatan chaining"
   ],
   "metadata": {
    "collapsed": false,
    "ExecuteTime": {
     "end_time": "2025-04-08T14:47:49.083422Z",
     "start_time": "2025-04-08T14:47:49.070042Z"
    }
   },
   "id": "e9c83ca08ac6b491",
   "execution_count": 4
  },
  {
   "cell_type": "markdown",
   "source": [
    "## Scrapping data"
   ],
   "metadata": {
    "collapsed": false
   },
   "id": "7b638388df4617a2"
  },
  {
   "cell_type": "markdown",
   "source": [
    "Disini saya akan scrap review dari game Marvel's Spider-Man Remastered di platform steam"
   ],
   "metadata": {
    "collapsed": false
   },
   "id": "c1dffc2ba86a4083"
  },
  {
   "cell_type": "code",
   "outputs": [
    {
     "name": "stdout",
     "output_type": "stream",
     "text": [
      "Cursor: *\n",
      "[appID = 701160] expected #reviews = 11067\n",
      "Cursor: AoJwqYekw5UDfcHV1AU=\n",
      "Cursor: AoJ40cuWjpUDdKuMzgU=\n",
      "Cursor: AoJ40tWhzZQDc5PlxgU=\n",
      "Cursor: AoJw/8/Kl5QDfMzJwAU=\n",
      "Cursor: AoJ4t8PW65MDe5yQugU=\n",
      "Cursor: AoJ4/93kxZMDer/wtAU=\n",
      "Cursor: AoJwttCwnJMDe+3QqwU=\n",
      "Cursor: AoJ4zJvV8pIDftPDpwU=\n",
      "Cursor: AoJwnrf73ZIDc5/GpQU=\n",
      "Cursor: AoJ4lPyN05IDdpLHpAU=\n",
      "Cursor: AoJwwuv1ypIDdfnmowU=\n",
      "Cursor: AoJ4kav8xZIDdZyxowU=\n",
      "Cursor: AoJ4t7mKw5IDffiLowU=\n",
      "Cursor: AoJwt7H2vpIDf53TogU=\n",
      "Cursor: AoJw+JD2tpIDfM3xoQU=\n",
      "Cursor: AoJ4zIL++JEDcIm3mwU=\n",
      "Cursor: AoJ4u//ZrZEDfKqJkQU=\n",
      "Cursor: AoJwkdzL9JADc/SQiwU=\n",
      "Cursor: AoJ42+yZvZADeP+uhAU=\n",
      "Cursor: AoJ44Pe2/48DdZOd/QQ=\n",
      "Cursor: AoJwh6KA1o8DeZWY+QQ=\n",
      "Cursor: AoJ42ujHmo8DdqTP8QQ=\n",
      "Cursor: AoJwy4a26I4DdaPW7AQ=\n",
      "Cursor: AoJ4pczXpo4Deeip5QQ=\n",
      "Cursor: AoJwyb6E440Df7Xg3QQ=\n",
      "Cursor: AoJwz+zYmI0DcYeY1QQ=\n",
      "Cursor: AoJ4pJ7/4IwDfNKBzwQ=\n",
      "Cursor: AoJ49+LouIwDdb+nygQ=\n",
      "Cursor: AoJ4m+fShowDe86hxAQ=\n",
      "Cursor: AoJ45fCU5IsDcbC1vAQ=\n",
      "Cursor: AoJ4zeW5vosDcJ37uAQ=\n",
      "Cursor: AoJ4jp75pYsDet/KtgQ=\n",
      "Cursor: AoJ4jMyB8IoDf93isQQ=\n",
      "Cursor: AoJw5vazsIoDfNXSqwQ=\n",
      "Cursor: AoJ4uJzE5YkDcJa/owQ=\n",
      "Cursor: AoJ49vPKsokDdr7ingQ=\n",
      "Cursor: AoJ4rYmNlIkDfNO1mwQ=\n",
      "Cursor: AoJ4r7eq7ogDdfrXlwQ=\n",
      "Cursor: AoJw+ciJqIgDfpyAkgQ=\n",
      "Cursor: AoJ4/Z6k5YcDffSrjAQ=\n",
      "Cursor: AoJwsJyBrIcDdeTUhwQ=\n",
      "Cursor: AoJ4sr+n9IYDd7X9gQQ=\n",
      "Cursor: AoJ4h8fouoYDcvfF/AM=\n",
      "Cursor: AoJ40M65ioYDcsH09wM=\n",
      "Cursor: AoJ4y6+N7oUDeb6U9QM=\n",
      "Cursor: AoJ4kpuwvYUDd5+a8AM=\n",
      "Cursor: AoJ4lO/PoIUDetHL7AM=\n",
      "Cursor: AoJw+7e54oQDdrfZ5gM=\n",
      "Cursor: AoJ4zJzFwIQDfMuE3wM=\n",
      "Cursor: AoJ4uYv3/4MDd7rs2QM=\n",
      "Cursor: AoJ4/LyvxYMDdfim1QM=\n",
      "Cursor: AoJ4q/7qrYMDe+y70wM=\n",
      "Cursor: AoJw+OK35IIDffj3zQM=\n",
      "Cursor: AoJ4is34soIDeeDqyQM=\n",
      "Cursor: AoJ4wfvc+IEDfr3exAM=\n",
      "Cursor: AoJw6cWi1oEDe5+7wQM=\n",
      "Cursor: AoJw5PvgqYEDdp/SvQM=\n",
      "Cursor: AoJws72/7oADfuequQM=\n",
      "Cursor: AoJwqaD81IADf+nBtwM=\n",
      "Cursor: AoJ43Ludp4ADdJ3qswM=\n",
      "Cursor: AoJwq7HI6/8Ccr+YrwM=\n",
      "Cursor: AoJwm+DDw/8CetHsqwM=\n",
      "Cursor: AoJ4lf71n/8CfdSmqAM=\n",
      "Cursor: AoJ4lMeU2/4CdJjnoAM=\n",
      "Cursor: AoJ40s7tsf4CfZjGnAM=\n",
      "Cursor: AoJ4l8rQj/4Cc9/7mAM=\n",
      "Cursor: AoJ4zoq9+v0Cf/y4lgM=\n",
      "Cursor: AoJ4/eT20v0CfcTmkgM=\n",
      "Cursor: AoJwud6ptf0CcMGijwM=\n",
      "Cursor: AoJ41PGNq/0CeaPRiwM=\n",
      "Cursor: AoJw1ce+nf0Cd6mkiQM=\n",
      "Cursor: AoJw9b6TlP0Cc/a2iAM=\n",
      "Cursor: AoJwla+1gP0CebPnhgM=\n",
      "Cursor: AoJ4noHw0/wCcPf3ggM=\n",
      "Cursor: AoJwnZbiifwCf6zw/AI=\n",
      "Cursor: AoJ46sSC0PsCcOWQ+AI=\n",
      "Cursor: AoJwzMT95foCcsHq7gI=\n",
      "Cursor: AoJw7KjdlfoCeoD05gI=\n",
      "Cursor: AoJw1+Xfu/kCfNi43wI=\n",
      "Cursor: AoJw1df4hvkCcMj32gI=\n",
      "Cursor: AoJ48eWS2fgCeNeS1wI=\n",
      "Cursor: AoJ4iOrfmfgCdYm40QI=\n",
      "Cursor: AoJ40oT6vPcCdvO7yAI=\n",
      "Cursor: AoJ45NSY5PYCfKSIwAI=\n",
      "Cursor: AoJw38z1qPYCevGJuQI=\n",
      "Cursor: AoJ4w/W39vUCdZrhrwI=\n",
      "Cursor: AoJ48cODz/UCfs3YrAI=\n",
      "Cursor: AoJ4iKn4k/UCdofspwI=\n",
      "Cursor: AoJ45czU8fMCeoiDmwI=\n",
      "Cursor: AoJ4x7D7h/MCesCakgI=\n",
      "Cursor: AoJwsPCuqfICd+69igI=\n",
      "Cursor: AoJ4vdPh+PECes6mhgI=\n",
      "Cursor: AoJw2qjD4/ECdcuuhAI=\n",
      "Cursor: AoJ4n7zTrfECfpWf/wE=\n",
      "Cursor: AoJ4+qnh3fACevrz9gE=\n",
      "Cursor: AoJ4lr3n8u8CeJqz7gE=\n",
      "Cursor: AoJ4h+qLq+8Cdb2o6AE=\n",
      "Cursor: AoJwmred/u4Ceufw4wE=\n",
      "Cursor: AoJwz8D/3+4Cefa94AE=\n",
      "Cursor: AoJw0PTI2e4CdbT83gE=\n",
      "Cursor: AoJ4m4PB1e4CftK+3QE=\n",
      "Cursor: AoJw6cfBv+4CfZmH2wE=\n",
      "Cursor: AoJw+5Wnle4CdbHD1gE=\n",
      "Cursor: AoJw/qLelewCdaePzwE=\n",
      "Cursor: AoJwmMDV0+sCfZfVxwE=\n",
      "Cursor: AoJw1Kvyh+oCc/WIvwE=\n",
      "Cursor: AoJwg5+Zr+gCcpXNuAE=\n",
      "Cursor: AoJ4gJbk+ecCedbWtgE=\n",
      "Cursor: AoJwl5uf3ucCee3EtQE=\n",
      "Cursor: AoJw2v+20ucCeImWtQE=\n",
      "Cursor: AoJwxO2Cz+cCf+GHtQE=\n",
      "Exiting the loop to query Steam API, because this request failed.\n",
      "Berhasil Scrap, Jumlah Review: 11054\n"
     ]
    }
   ],
   "source": [
    "app_id = 701160  # Kingdom Two Crowns\n",
    "\n",
    "review_data, _ = download_reviews_for_app_id(\n",
    "    app_id=app_id,\n",
    "    chosen_request_params={\"language\": \"english\"},\n",
    "    verbose=True\n",
    ")\n",
    "reviews = review_data['reviews'].values()\n",
    "\n",
    "data = []\n",
    "for r in reviews:\n",
    "    data.append({\n",
    "        'review': r['review'],\n",
    "        'voted_up': r['voted_up'],\n",
    "        'timestamp': r['timestamp_created']\n",
    "    })\n",
    "\n",
    "game_df = pd.DataFrame(data)\n",
    "game_df.to_csv('kingdom_two_crowns_reviews.csv', index=False)\n",
    "print(\"Berhasil Scrap, Jumlah Review:\", len(game_df))"
   ],
   "metadata": {
    "collapsed": false,
    "ExecuteTime": {
     "end_time": "2025-04-08T15:39:22.704653Z",
     "start_time": "2025-04-08T15:38:20.099343500Z"
    }
   },
   "id": "297e5c688a60382c",
   "execution_count": 11
  },
  {
   "cell_type": "code",
   "outputs": [],
   "source": [],
   "metadata": {
    "collapsed": false
   },
   "id": "75de126d0fb70b"
  }
 ],
 "metadata": {
  "kernelspec": {
   "display_name": "Python 3",
   "language": "python",
   "name": "python3"
  },
  "language_info": {
   "codemirror_mode": {
    "name": "ipython",
    "version": 2
   },
   "file_extension": ".py",
   "mimetype": "text/x-python",
   "name": "python",
   "nbconvert_exporter": "python",
   "pygments_lexer": "ipython2",
   "version": "2.7.6"
  }
 },
 "nbformat": 4,
 "nbformat_minor": 5
}
