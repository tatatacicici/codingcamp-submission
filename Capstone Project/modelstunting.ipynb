{
 "cells": [
  {
   "cell_type": "code",
   "execution_count": 1,
   "id": "7024046e",
   "metadata": {
    "_cell_guid": "b1076dfc-b9ad-4769-8c92-a6c4dae69d19",
    "_uuid": "8f2839f25d086af736a60e9eeb907d3b93b6e0e5",
    "execution": {
     "iopub.execute_input": "2025-06-01T07:35:58.169234Z",
     "iopub.status.busy": "2025-06-01T07:35:58.168489Z",
     "iopub.status.idle": "2025-06-01T07:36:12.283698Z",
     "shell.execute_reply": "2025-06-01T07:36:12.282920Z"
    },
    "papermill": {
     "duration": 14.123313,
     "end_time": "2025-06-01T07:36:12.285858",
     "exception": false,
     "start_time": "2025-06-01T07:35:58.162545",
     "status": "completed"
    },
    "tags": []
   },
   "outputs": [
    {
     "name": "stdout",
     "output_type": "stream",
     "text": [
      "Requirement already satisfied: scikit-learn in /usr/local/lib/python3.11/dist-packages (1.2.2)\r\n",
      "Collecting scikit-learn\r\n",
      "  Downloading scikit_learn-1.6.1-cp311-cp311-manylinux_2_17_x86_64.manylinux2014_x86_64.whl.metadata (18 kB)\r\n",
      "Requirement already satisfied: numpy>=1.19.5 in /usr/local/lib/python3.11/dist-packages (from scikit-learn) (1.26.4)\r\n",
      "Requirement already satisfied: scipy>=1.6.0 in /usr/local/lib/python3.11/dist-packages (from scikit-learn) (1.15.2)\r\n",
      "Requirement already satisfied: joblib>=1.2.0 in /usr/local/lib/python3.11/dist-packages (from scikit-learn) (1.5.0)\r\n",
      "Requirement already satisfied: threadpoolctl>=3.1.0 in /usr/local/lib/python3.11/dist-packages (from scikit-learn) (3.6.0)\r\n",
      "Requirement already satisfied: mkl_fft in /usr/local/lib/python3.11/dist-packages (from numpy>=1.19.5->scikit-learn) (1.3.8)\r\n",
      "Requirement already satisfied: mkl_random in /usr/local/lib/python3.11/dist-packages (from numpy>=1.19.5->scikit-learn) (1.2.4)\r\n",
      "Requirement already satisfied: mkl_umath in /usr/local/lib/python3.11/dist-packages (from numpy>=1.19.5->scikit-learn) (0.1.1)\r\n",
      "Requirement already satisfied: mkl in /usr/local/lib/python3.11/dist-packages (from numpy>=1.19.5->scikit-learn) (2025.1.0)\r\n",
      "Requirement already satisfied: tbb4py in /usr/local/lib/python3.11/dist-packages (from numpy>=1.19.5->scikit-learn) (2022.1.0)\r\n",
      "Requirement already satisfied: mkl-service in /usr/local/lib/python3.11/dist-packages (from numpy>=1.19.5->scikit-learn) (2.4.1)\r\n",
      "Requirement already satisfied: intel-openmp<2026,>=2024 in /usr/local/lib/python3.11/dist-packages (from mkl->numpy>=1.19.5->scikit-learn) (2024.2.0)\r\n",
      "Requirement already satisfied: tbb==2022.* in /usr/local/lib/python3.11/dist-packages (from mkl->numpy>=1.19.5->scikit-learn) (2022.1.0)\r\n",
      "Requirement already satisfied: tcmlib==1.* in /usr/local/lib/python3.11/dist-packages (from tbb==2022.*->mkl->numpy>=1.19.5->scikit-learn) (1.3.0)\r\n",
      "Requirement already satisfied: intel-cmplr-lib-rt in /usr/local/lib/python3.11/dist-packages (from mkl_umath->numpy>=1.19.5->scikit-learn) (2024.2.0)\r\n",
      "Requirement already satisfied: intel-cmplr-lib-ur==2024.2.0 in /usr/local/lib/python3.11/dist-packages (from intel-openmp<2026,>=2024->mkl->numpy>=1.19.5->scikit-learn) (2024.2.0)\r\n",
      "Downloading scikit_learn-1.6.1-cp311-cp311-manylinux_2_17_x86_64.manylinux2014_x86_64.whl (13.5 MB)\r\n",
      "\u001b[2K   \u001b[90m━━━━━━━━━━━━━━━━━━━━━━━━━━━━━━━━━━━━━━━━\u001b[0m \u001b[32m13.5/13.5 MB\u001b[0m \u001b[31m103.8 MB/s\u001b[0m eta \u001b[36m0:00:00\u001b[0m\r\n",
      "\u001b[?25hInstalling collected packages: scikit-learn\r\n",
      "  Attempting uninstall: scikit-learn\r\n",
      "    Found existing installation: scikit-learn 1.2.2\r\n",
      "    Uninstalling scikit-learn-1.2.2:\r\n",
      "      Successfully uninstalled scikit-learn-1.2.2\r\n",
      "\u001b[31mERROR: pip's dependency resolver does not currently take into account all the packages that are installed. This behaviour is the source of the following dependency conflicts.\r\n",
      "category-encoders 2.7.0 requires scikit-learn<1.6.0,>=1.0.0, but you have scikit-learn 1.6.1 which is incompatible.\r\n",
      "cesium 0.12.4 requires numpy<3.0,>=2.0, but you have numpy 1.26.4 which is incompatible.\u001b[0m\u001b[31m\r\n",
      "\u001b[0mSuccessfully installed scikit-learn-1.6.1\r\n",
      "Collecting imblearn\r\n",
      "  Downloading imblearn-0.0-py2.py3-none-any.whl.metadata (355 bytes)\r\n",
      "Requirement already satisfied: tensorflow in /usr/local/lib/python3.11/dist-packages (2.18.0)\r\n",
      "Requirement already satisfied: pandas in /usr/local/lib/python3.11/dist-packages (2.2.3)\r\n",
      "Requirement already satisfied: numpy in /usr/local/lib/python3.11/dist-packages (1.26.4)\r\n",
      "Requirement already satisfied: imbalanced-learn in /usr/local/lib/python3.11/dist-packages (from imblearn) (0.13.0)\r\n",
      "Requirement already satisfied: absl-py>=1.0.0 in /usr/local/lib/python3.11/dist-packages (from tensorflow) (1.4.0)\r\n",
      "Requirement already satisfied: astunparse>=1.6.0 in /usr/local/lib/python3.11/dist-packages (from tensorflow) (1.6.3)\r\n",
      "Requirement already satisfied: flatbuffers>=24.3.25 in /usr/local/lib/python3.11/dist-packages (from tensorflow) (25.2.10)\r\n",
      "Requirement already satisfied: gast!=0.5.0,!=0.5.1,!=0.5.2,>=0.2.1 in /usr/local/lib/python3.11/dist-packages (from tensorflow) (0.6.0)\r\n",
      "Requirement already satisfied: google-pasta>=0.1.1 in /usr/local/lib/python3.11/dist-packages (from tensorflow) (0.2.0)\r\n",
      "Requirement already satisfied: libclang>=13.0.0 in /usr/local/lib/python3.11/dist-packages (from tensorflow) (18.1.1)\r\n",
      "Requirement already satisfied: opt-einsum>=2.3.2 in /usr/local/lib/python3.11/dist-packages (from tensorflow) (3.4.0)\r\n",
      "Requirement already satisfied: packaging in /usr/local/lib/python3.11/dist-packages (from tensorflow) (25.0)\r\n",
      "Requirement already satisfied: protobuf!=4.21.0,!=4.21.1,!=4.21.2,!=4.21.3,!=4.21.4,!=4.21.5,<6.0.0dev,>=3.20.3 in /usr/local/lib/python3.11/dist-packages (from tensorflow) (3.20.3)\r\n",
      "Requirement already satisfied: requests<3,>=2.21.0 in /usr/local/lib/python3.11/dist-packages (from tensorflow) (2.32.3)\r\n",
      "Requirement already satisfied: setuptools in /usr/local/lib/python3.11/dist-packages (from tensorflow) (75.2.0)\r\n",
      "Requirement already satisfied: six>=1.12.0 in /usr/local/lib/python3.11/dist-packages (from tensorflow) (1.17.0)\r\n",
      "Requirement already satisfied: termcolor>=1.1.0 in /usr/local/lib/python3.11/dist-packages (from tensorflow) (3.0.1)\r\n",
      "Requirement already satisfied: typing-extensions>=3.6.6 in /usr/local/lib/python3.11/dist-packages (from tensorflow) (4.13.2)\r\n",
      "Requirement already satisfied: wrapt>=1.11.0 in /usr/local/lib/python3.11/dist-packages (from tensorflow) (1.17.2)\r\n",
      "Requirement already satisfied: grpcio<2.0,>=1.24.3 in /usr/local/lib/python3.11/dist-packages (from tensorflow) (1.72.0rc1)\r\n",
      "Requirement already satisfied: tensorboard<2.19,>=2.18 in /usr/local/lib/python3.11/dist-packages (from tensorflow) (2.18.0)\r\n",
      "Requirement already satisfied: keras>=3.5.0 in /usr/local/lib/python3.11/dist-packages (from tensorflow) (3.8.0)\r\n",
      "Requirement already satisfied: h5py>=3.11.0 in /usr/local/lib/python3.11/dist-packages (from tensorflow) (3.13.0)\r\n",
      "Requirement already satisfied: ml-dtypes<0.5.0,>=0.4.0 in /usr/local/lib/python3.11/dist-packages (from tensorflow) (0.4.1)\r\n",
      "Requirement already satisfied: tensorflow-io-gcs-filesystem>=0.23.1 in /usr/local/lib/python3.11/dist-packages (from tensorflow) (0.37.1)\r\n",
      "Requirement already satisfied: python-dateutil>=2.8.2 in /usr/local/lib/python3.11/dist-packages (from pandas) (2.9.0.post0)\r\n",
      "Requirement already satisfied: pytz>=2020.1 in /usr/local/lib/python3.11/dist-packages (from pandas) (2025.2)\r\n",
      "Requirement already satisfied: tzdata>=2022.7 in /usr/local/lib/python3.11/dist-packages (from pandas) (2025.2)\r\n",
      "Requirement already satisfied: mkl_fft in /usr/local/lib/python3.11/dist-packages (from numpy) (1.3.8)\r\n",
      "Requirement already satisfied: mkl_random in /usr/local/lib/python3.11/dist-packages (from numpy) (1.2.4)\r\n",
      "Requirement already satisfied: mkl_umath in /usr/local/lib/python3.11/dist-packages (from numpy) (0.1.1)\r\n",
      "Requirement already satisfied: mkl in /usr/local/lib/python3.11/dist-packages (from numpy) (2025.1.0)\r\n",
      "Requirement already satisfied: tbb4py in /usr/local/lib/python3.11/dist-packages (from numpy) (2022.1.0)\r\n",
      "Requirement already satisfied: mkl-service in /usr/local/lib/python3.11/dist-packages (from numpy) (2.4.1)\r\n",
      "Requirement already satisfied: wheel<1.0,>=0.23.0 in /usr/local/lib/python3.11/dist-packages (from astunparse>=1.6.0->tensorflow) (0.45.1)\r\n",
      "Requirement already satisfied: rich in /usr/local/lib/python3.11/dist-packages (from keras>=3.5.0->tensorflow) (14.0.0)\r\n",
      "Requirement already satisfied: namex in /usr/local/lib/python3.11/dist-packages (from keras>=3.5.0->tensorflow) (0.0.8)\r\n",
      "Requirement already satisfied: optree in /usr/local/lib/python3.11/dist-packages (from keras>=3.5.0->tensorflow) (0.14.1)\r\n",
      "Requirement already satisfied: charset-normalizer<4,>=2 in /usr/local/lib/python3.11/dist-packages (from requests<3,>=2.21.0->tensorflow) (3.4.2)\r\n",
      "Requirement already satisfied: idna<4,>=2.5 in /usr/local/lib/python3.11/dist-packages (from requests<3,>=2.21.0->tensorflow) (3.10)\r\n",
      "Requirement already satisfied: urllib3<3,>=1.21.1 in /usr/local/lib/python3.11/dist-packages (from requests<3,>=2.21.0->tensorflow) (2.4.0)\r\n",
      "Requirement already satisfied: certifi>=2017.4.17 in /usr/local/lib/python3.11/dist-packages (from requests<3,>=2.21.0->tensorflow) (2025.4.26)\r\n",
      "Requirement already satisfied: markdown>=2.6.8 in /usr/local/lib/python3.11/dist-packages (from tensorboard<2.19,>=2.18->tensorflow) (3.7)\r\n",
      "Requirement already satisfied: tensorboard-data-server<0.8.0,>=0.7.0 in /usr/local/lib/python3.11/dist-packages (from tensorboard<2.19,>=2.18->tensorflow) (0.7.2)\r\n",
      "Requirement already satisfied: werkzeug>=1.0.1 in /usr/local/lib/python3.11/dist-packages (from tensorboard<2.19,>=2.18->tensorflow) (3.1.3)\r\n",
      "Requirement already satisfied: scipy<2,>=1.10.1 in /usr/local/lib/python3.11/dist-packages (from imbalanced-learn->imblearn) (1.15.2)\r\n",
      "Requirement already satisfied: scikit-learn<2,>=1.3.2 in /usr/local/lib/python3.11/dist-packages (from imbalanced-learn->imblearn) (1.6.1)\r\n",
      "Requirement already satisfied: sklearn-compat<1,>=0.1 in /usr/local/lib/python3.11/dist-packages (from imbalanced-learn->imblearn) (0.1.3)\r\n",
      "Requirement already satisfied: joblib<2,>=1.1.1 in /usr/local/lib/python3.11/dist-packages (from imbalanced-learn->imblearn) (1.5.0)\r\n",
      "Requirement already satisfied: threadpoolctl<4,>=2.0.0 in /usr/local/lib/python3.11/dist-packages (from imbalanced-learn->imblearn) (3.6.0)\r\n",
      "Requirement already satisfied: intel-openmp<2026,>=2024 in /usr/local/lib/python3.11/dist-packages (from mkl->numpy) (2024.2.0)\r\n",
      "Requirement already satisfied: tbb==2022.* in /usr/local/lib/python3.11/dist-packages (from mkl->numpy) (2022.1.0)\r\n",
      "Requirement already satisfied: tcmlib==1.* in /usr/local/lib/python3.11/dist-packages (from tbb==2022.*->mkl->numpy) (1.3.0)\r\n",
      "Requirement already satisfied: intel-cmplr-lib-rt in /usr/local/lib/python3.11/dist-packages (from mkl_umath->numpy) (2024.2.0)\r\n",
      "Requirement already satisfied: intel-cmplr-lib-ur==2024.2.0 in /usr/local/lib/python3.11/dist-packages (from intel-openmp<2026,>=2024->mkl->numpy) (2024.2.0)\r\n",
      "Requirement already satisfied: MarkupSafe>=2.1.1 in /usr/local/lib/python3.11/dist-packages (from werkzeug>=1.0.1->tensorboard<2.19,>=2.18->tensorflow) (3.0.2)\r\n",
      "Requirement already satisfied: markdown-it-py>=2.2.0 in /usr/local/lib/python3.11/dist-packages (from rich->keras>=3.5.0->tensorflow) (3.0.0)\r\n",
      "Requirement already satisfied: pygments<3.0.0,>=2.13.0 in /usr/local/lib/python3.11/dist-packages (from rich->keras>=3.5.0->tensorflow) (2.19.1)\r\n",
      "Requirement already satisfied: mdurl~=0.1 in /usr/local/lib/python3.11/dist-packages (from markdown-it-py>=2.2.0->rich->keras>=3.5.0->tensorflow) (0.1.2)\r\n",
      "Downloading imblearn-0.0-py2.py3-none-any.whl (1.9 kB)\r\n",
      "Installing collected packages: imblearn\r\n",
      "Successfully installed imblearn-0.0\r\n",
      "Requirement already satisfied: gdown in /usr/local/lib/python3.11/dist-packages (5.2.0)\r\n",
      "Requirement already satisfied: beautifulsoup4 in /usr/local/lib/python3.11/dist-packages (from gdown) (4.13.3)\r\n",
      "Requirement already satisfied: filelock in /usr/local/lib/python3.11/dist-packages (from gdown) (3.18.0)\r\n",
      "Requirement already satisfied: requests[socks] in /usr/local/lib/python3.11/dist-packages (from gdown) (2.32.3)\r\n",
      "Requirement already satisfied: tqdm in /usr/local/lib/python3.11/dist-packages (from gdown) (4.67.1)\r\n",
      "Requirement already satisfied: soupsieve>1.2 in /usr/local/lib/python3.11/dist-packages (from beautifulsoup4->gdown) (2.6)\r\n",
      "Requirement already satisfied: typing-extensions>=4.0.0 in /usr/local/lib/python3.11/dist-packages (from beautifulsoup4->gdown) (4.13.2)\r\n",
      "Requirement already satisfied: charset-normalizer<4,>=2 in /usr/local/lib/python3.11/dist-packages (from requests[socks]->gdown) (3.4.2)\r\n",
      "Requirement already satisfied: idna<4,>=2.5 in /usr/local/lib/python3.11/dist-packages (from requests[socks]->gdown) (3.10)\r\n",
      "Requirement already satisfied: urllib3<3,>=1.21.1 in /usr/local/lib/python3.11/dist-packages (from requests[socks]->gdown) (2.4.0)\r\n",
      "Requirement already satisfied: certifi>=2017.4.17 in /usr/local/lib/python3.11/dist-packages (from requests[socks]->gdown) (2025.4.26)\r\n",
      "Requirement already satisfied: PySocks!=1.5.7,>=1.5.6 in /usr/local/lib/python3.11/dist-packages (from requests[socks]->gdown) (1.7.1)\r\n"
     ]
    }
   ],
   "source": [
    "# Install dependensi yang diperlukan\n",
    "!pip install --upgrade scikit-learn \n",
    "!pip install imblearn tensorflow pandas numpy\n",
    "!pip install gdown"
   ]
  },
  {
   "cell_type": "code",
   "execution_count": 2,
   "id": "844387de",
   "metadata": {
    "execution": {
     "iopub.execute_input": "2025-06-01T07:36:12.297696Z",
     "iopub.status.busy": "2025-06-01T07:36:12.297420Z",
     "iopub.status.idle": "2025-06-01T07:36:30.084897Z",
     "shell.execute_reply": "2025-06-01T07:36:30.084102Z"
    },
    "papermill": {
     "duration": 17.794778,
     "end_time": "2025-06-01T07:36:30.086373",
     "exception": false,
     "start_time": "2025-06-01T07:36:12.291595",
     "status": "completed"
    },
    "tags": []
   },
   "outputs": [
    {
     "name": "stderr",
     "output_type": "stream",
     "text": [
      "2025-06-01 07:36:17.351274: E external/local_xla/xla/stream_executor/cuda/cuda_fft.cc:477] Unable to register cuFFT factory: Attempting to register factory for plugin cuFFT when one has already been registered\n",
      "WARNING: All log messages before absl::InitializeLog() is called are written to STDERR\n",
      "E0000 00:00:1748763377.621853      19 cuda_dnn.cc:8310] Unable to register cuDNN factory: Attempting to register factory for plugin cuDNN when one has already been registered\n",
      "E0000 00:00:1748763377.727278      19 cuda_blas.cc:1418] Unable to register cuBLAS factory: Attempting to register factory for plugin cuBLAS when one has already been registered\n"
     ]
    }
   ],
   "source": [
    "# Import library yang diperlukan\n",
    "import numpy as np\n",
    "import pandas as pd\n",
    "from sklearn.model_selection import train_test_split\n",
    "from sklearn.preprocessing import StandardScaler\n",
    "from sklearn.metrics import f1_score\n",
    "import tensorflow as tf\n",
    "from tensorflow.keras.models import Sequential\n",
    "from tensorflow.keras.layers import Dense\n",
    "import kagglehub\n",
    "import os\n",
    "import gdown"
   ]
  },
  {
   "cell_type": "code",
   "execution_count": 3,
   "id": "4bbed3ac",
   "metadata": {
    "execution": {
     "iopub.execute_input": "2025-06-01T07:36:30.098142Z",
     "iopub.status.busy": "2025-06-01T07:36:30.097460Z",
     "iopub.status.idle": "2025-06-01T07:36:52.805186Z",
     "shell.execute_reply": "2025-06-01T07:36:52.804567Z"
    },
    "papermill": {
     "duration": 22.714538,
     "end_time": "2025-06-01T07:36:52.806323",
     "exception": false,
     "start_time": "2025-06-01T07:36:30.091785",
     "status": "completed"
    },
    "tags": []
   },
   "outputs": [
    {
     "name": "stderr",
     "output_type": "stream",
     "text": [
      "Retrieving folder contents\n"
     ]
    },
    {
     "name": "stdout",
     "output_type": "stream",
     "text": [
      "Processing file 18LxC4zigrhkYNMSEf4KSow2rFipkLxKJ bnba_juni_2024.csv\n",
      "Processing file 1qtsp6UZ-UqejBrHYyOBfFtD6zBaGe5xK daftar-balita-stunting-bulan-mei-2024-kalinyamat.csv\n",
      "Processing file 1mfZnVFakfk6_tGQAeBCquy6f9wcscSIA daftar-balita-stunting-bulan-mei-2024-margadana.csv\n",
      "Processing file 1f5f8_JtGWW1HfZ5yWIIj4Lz7Jpabt8gd daftar-balita-stunting-bulan-mei-2024-pesurungan.csv\n",
      "Processing file 1E9CXAPlAC4RKppcdoxHXPfeRl3kEWwpg daftar-balita-stunting-bulan-mei-2024-sumurpanggang.csv\n",
      "Processing file 199nKkJM1Mtg28TTgm0DrV5vZEVsOvF6W data_stunting_debong_kulon.csv\n"
     ]
    },
    {
     "name": "stderr",
     "output_type": "stream",
     "text": [
      "Retrieving folder contents completed\n",
      "Building directory structure\n",
      "Building directory structure completed\n",
      "Downloading...\n",
      "From: https://drive.google.com/uc?id=18LxC4zigrhkYNMSEf4KSow2rFipkLxKJ\n",
      "To: /kaggle/working/DatasetStunting/bnba_juni_2024.csv\n",
      "100%|██████████| 4.96k/4.96k [00:00<00:00, 6.36MB/s]\n",
      "Downloading...\n",
      "From: https://drive.google.com/uc?id=1qtsp6UZ-UqejBrHYyOBfFtD6zBaGe5xK\n",
      "To: /kaggle/working/DatasetStunting/daftar-balita-stunting-bulan-mei-2024-kalinyamat.csv\n",
      "100%|██████████| 1.15k/1.15k [00:00<00:00, 2.21MB/s]\n",
      "Downloading...\n",
      "From: https://drive.google.com/uc?id=1mfZnVFakfk6_tGQAeBCquy6f9wcscSIA\n",
      "To: /kaggle/working/DatasetStunting/daftar-balita-stunting-bulan-mei-2024-margadana.csv\n",
      "100%|██████████| 3.14k/3.14k [00:00<00:00, 5.48MB/s]\n",
      "Downloading...\n",
      "From: https://drive.google.com/uc?id=1f5f8_JtGWW1HfZ5yWIIj4Lz7Jpabt8gd\n",
      "To: /kaggle/working/DatasetStunting/daftar-balita-stunting-bulan-mei-2024-pesurungan.csv\n",
      "100%|██████████| 1.43k/1.43k [00:00<00:00, 4.93MB/s]\n",
      "Downloading...\n",
      "From: https://drive.google.com/uc?id=1E9CXAPlAC4RKppcdoxHXPfeRl3kEWwpg\n",
      "To: /kaggle/working/DatasetStunting/daftar-balita-stunting-bulan-mei-2024-sumurpanggang.csv\n",
      "100%|██████████| 1.02k/1.02k [00:00<00:00, 2.06MB/s]\n",
      "Downloading...\n",
      "From: https://drive.google.com/uc?id=199nKkJM1Mtg28TTgm0DrV5vZEVsOvF6W\n",
      "To: /kaggle/working/DatasetStunting/data_stunting_debong_kulon.csv\n",
      "100%|██████████| 2.12k/2.12k [00:00<00:00, 4.09MB/s]\n",
      "Download completed\n"
     ]
    },
    {
     "data": {
      "text/plain": [
       "['/kaggle/working/DatasetStunting/bnba_juni_2024.csv',\n",
       " '/kaggle/working/DatasetStunting/daftar-balita-stunting-bulan-mei-2024-kalinyamat.csv',\n",
       " '/kaggle/working/DatasetStunting/daftar-balita-stunting-bulan-mei-2024-margadana.csv',\n",
       " '/kaggle/working/DatasetStunting/daftar-balita-stunting-bulan-mei-2024-pesurungan.csv',\n",
       " '/kaggle/working/DatasetStunting/daftar-balita-stunting-bulan-mei-2024-sumurpanggang.csv',\n",
       " '/kaggle/working/DatasetStunting/data_stunting_debong_kulon.csv']"
      ]
     },
     "execution_count": 3,
     "metadata": {},
     "output_type": "execute_result"
    }
   ],
   "source": [
    "# ID folder Drive\n",
    "dataTambahan = \"https://drive.google.com/drive/folders/1SBv5axgVieESmhKxqcxcXbZiEFbaa6Bf\"\n",
    "gdown.download_folder(dataTambahan, quiet=False, use_cookies=False)"
   ]
  },
  {
   "cell_type": "code",
   "execution_count": 4,
   "id": "18fad88a",
   "metadata": {
    "execution": {
     "iopub.execute_input": "2025-06-01T07:36:52.819649Z",
     "iopub.status.busy": "2025-06-01T07:36:52.819386Z",
     "iopub.status.idle": "2025-06-01T07:36:52.846518Z",
     "shell.execute_reply": "2025-06-01T07:36:52.845727Z"
    },
    "papermill": {
     "duration": 0.035035,
     "end_time": "2025-06-01T07:36:52.847826",
     "exception": false,
     "start_time": "2025-06-01T07:36:52.812791",
     "status": "completed"
    },
    "tags": []
   },
   "outputs": [
    {
     "name": "stdout",
     "output_type": "stream",
     "text": [
      "✅ Data berhasil digabung ke 'data_tambahan.csv'\n"
     ]
    }
   ],
   "source": [
    "folder_path = 'DatasetStunting'\n",
    "csv_files = [f for f in os.listdir(folder_path) if f.endswith('.csv')]\n",
    "\n",
    "# Gabungkan semua CSV\n",
    "df_list = [pd.read_csv(os.path.join(folder_path, f)) for f in csv_files]\n",
    "gabungan = pd.concat(df_list, ignore_index=True)\n",
    "\n",
    "# Simpan ke satu file\n",
    "gabungan.to_csv('data_tambahan.csv', index=False)\n",
    "print(\"✅ Data berhasil digabung ke 'data_tambahan.csv'\")"
   ]
  },
  {
   "cell_type": "code",
   "execution_count": 5,
   "id": "8ab42fd5",
   "metadata": {
    "execution": {
     "iopub.execute_input": "2025-06-01T07:36:52.861680Z",
     "iopub.status.busy": "2025-06-01T07:36:52.861237Z",
     "iopub.status.idle": "2025-06-01T07:36:52.995723Z",
     "shell.execute_reply": "2025-06-01T07:36:52.994911Z"
    },
    "papermill": {
     "duration": 0.142757,
     "end_time": "2025-06-01T07:36:52.997124",
     "exception": false,
     "start_time": "2025-06-01T07:36:52.854367",
     "status": "completed"
    },
    "tags": []
   },
   "outputs": [],
   "source": [
    "df1 = pd.read_csv('/kaggle/input/stunting-wasting-dataset/stunting_wasting_dataset.csv')\n",
    "df2 = pd.read_csv('/kaggle/working/data_tambahan.csv')"
   ]
  },
  {
   "cell_type": "code",
   "execution_count": 6,
   "id": "588ecf16",
   "metadata": {
    "execution": {
     "iopub.execute_input": "2025-06-01T07:36:53.011167Z",
     "iopub.status.busy": "2025-06-01T07:36:53.010933Z",
     "iopub.status.idle": "2025-06-01T07:36:53.024430Z",
     "shell.execute_reply": "2025-06-01T07:36:53.023908Z"
    },
    "papermill": {
     "duration": 0.021887,
     "end_time": "2025-06-01T07:36:53.025507",
     "exception": false,
     "start_time": "2025-06-01T07:36:53.003620",
     "status": "completed"
    },
    "tags": []
   },
   "outputs": [],
   "source": [
    "df = pd.concat([df1, df2], ignore_index=True)"
   ]
  },
  {
   "cell_type": "code",
   "execution_count": 7,
   "id": "d5a8e343",
   "metadata": {
    "execution": {
     "iopub.execute_input": "2025-06-01T07:36:53.038436Z",
     "iopub.status.busy": "2025-06-01T07:36:53.038217Z",
     "iopub.status.idle": "2025-06-01T07:36:53.076408Z",
     "shell.execute_reply": "2025-06-01T07:36:53.075547Z"
    },
    "papermill": {
     "duration": 0.045882,
     "end_time": "2025-06-01T07:36:53.077624",
     "exception": false,
     "start_time": "2025-06-01T07:36:53.031742",
     "status": "completed"
    },
    "tags": []
   },
   "outputs": [
    {
     "name": "stdout",
     "output_type": "stream",
     "text": [
      "Kolom dataset: Index(['Jenis Kelamin', 'Umur (bulan)', 'Tinggi Badan (cm)',\n",
      "       'Berat Badan (kg)', 'Stunting', 'Wasting'],\n",
      "      dtype='object')\n",
      "Contoh data:\n",
      "   Jenis Kelamin  Umur (bulan) Tinggi Badan (cm) Berat Badan (kg)  \\\n",
      "0     Laki-laki          19.0              91.6             13.3   \n",
      "1     Laki-laki          20.0              77.7              8.5   \n",
      "2     Laki-laki          10.0              79.0             10.3   \n",
      "3     Perempuan           2.0              50.3              8.3   \n",
      "4     Perempuan           5.0              56.4             10.9   \n",
      "\n",
      "           Stunting             Wasting  \n",
      "0              Tall  Risk of Overweight  \n",
      "1           Stunted         Underweight  \n",
      "2            Normal  Risk of Overweight  \n",
      "3  Severely Stunted  Risk of Overweight  \n",
      "4  Severely Stunted  Risk of Overweight  \n",
      "Jumlah baris sebelum preprocessing: 100304\n",
      "Missing values:\n",
      " Jenis Kelamin         0\n",
      "Umur (bulan)         54\n",
      "Tinggi Badan (cm)    50\n",
      "Berat Badan (kg)     38\n",
      "Stunting              0\n",
      "Wasting               0\n",
      "dtype: int64\n"
     ]
    }
   ],
   "source": [
    "# Tampilkan informasi dataset\n",
    "print(\"Kolom dataset:\", df.columns)\n",
    "print(\"Contoh data:\\n\", df.head())\n",
    "print(\"Jumlah baris sebelum preprocessing:\", len(df))\n",
    "print(\"Missing values:\\n\", df.isnull().sum())"
   ]
  },
  {
   "cell_type": "code",
   "execution_count": 8,
   "id": "3e8e460e",
   "metadata": {
    "execution": {
     "iopub.execute_input": "2025-06-01T07:36:53.091479Z",
     "iopub.status.busy": "2025-06-01T07:36:53.091249Z",
     "iopub.status.idle": "2025-06-01T07:36:53.123481Z",
     "shell.execute_reply": "2025-06-01T07:36:53.122740Z"
    },
    "papermill": {
     "duration": 0.040469,
     "end_time": "2025-06-01T07:36:53.124654",
     "exception": false,
     "start_time": "2025-06-01T07:36:53.084185",
     "status": "completed"
    },
    "tags": []
   },
   "outputs": [
    {
     "name": "stdout",
     "output_type": "stream",
     "text": [
      "Jumlah baris setelah dropna: 100250\n"
     ]
    }
   ],
   "source": [
    "# Pembersihan data\n",
    "df = df.dropna()  # Hapus missing values\n",
    "print(\"Jumlah baris setelah dropna:\", len(df))"
   ]
  },
  {
   "cell_type": "code",
   "execution_count": 9,
   "id": "af891ba5",
   "metadata": {
    "execution": {
     "iopub.execute_input": "2025-06-01T07:36:53.138133Z",
     "iopub.status.busy": "2025-06-01T07:36:53.137900Z",
     "iopub.status.idle": "2025-06-01T07:36:53.150308Z",
     "shell.execute_reply": "2025-06-01T07:36:53.149592Z"
    },
    "papermill": {
     "duration": 0.020478,
     "end_time": "2025-06-01T07:36:53.151468",
     "exception": false,
     "start_time": "2025-06-01T07:36:53.130990",
     "status": "completed"
    },
    "tags": []
   },
   "outputs": [],
   "source": [
    "# Encoding kolom kategorikal\n",
    "# Jenis Kelamin: Laki-laki -> 0, Perempuan -> 1\n",
    "df['Jenis Kelamin'] = df['Jenis Kelamin'].map({'Laki-laki': 0, 'Perempuan': 1})"
   ]
  },
  {
   "cell_type": "code",
   "execution_count": 10,
   "id": "12416a23",
   "metadata": {
    "execution": {
     "iopub.execute_input": "2025-06-01T07:36:53.165072Z",
     "iopub.status.busy": "2025-06-01T07:36:53.164860Z",
     "iopub.status.idle": "2025-06-01T07:36:53.174023Z",
     "shell.execute_reply": "2025-06-01T07:36:53.173499Z"
    },
    "papermill": {
     "duration": 0.017012,
     "end_time": "2025-06-01T07:36:53.175123",
     "exception": false,
     "start_time": "2025-06-01T07:36:53.158111",
     "status": "completed"
    },
    "tags": []
   },
   "outputs": [],
   "source": [
    "# Stunting: Severely Stunted -> 0, Stunted -> 1, Normal -> 2, Tall -> 3\n",
    "df['Stunting'] = df['Stunting'].map({\n",
    "    'Severely Stunted': 0,\n",
    "    'Stunted': 1,\n",
    "    'Normal': 2,\n",
    "    'Tall': 3\n",
    "})"
   ]
  },
  {
   "cell_type": "code",
   "execution_count": 11,
   "id": "99b7d5f2",
   "metadata": {
    "execution": {
     "iopub.execute_input": "2025-06-01T07:36:53.188430Z",
     "iopub.status.busy": "2025-06-01T07:36:53.188227Z",
     "iopub.status.idle": "2025-06-01T07:36:53.204952Z",
     "shell.execute_reply": "2025-06-01T07:36:53.204398Z"
    },
    "papermill": {
     "duration": 0.024527,
     "end_time": "2025-06-01T07:36:53.206177",
     "exception": false,
     "start_time": "2025-06-01T07:36:53.181650",
     "status": "completed"
    },
    "tags": []
   },
   "outputs": [],
   "source": [
    "# Pisahkan fitur dan label\n",
    "X = df[['Umur (bulan)', 'Jenis Kelamin', 'Tinggi Badan (cm)', 'Berat Badan (kg)']].values\n",
    "y = df['Stunting'].values"
   ]
  },
  {
   "cell_type": "code",
   "execution_count": 12,
   "id": "4385099b",
   "metadata": {
    "execution": {
     "iopub.execute_input": "2025-06-01T07:36:53.219442Z",
     "iopub.status.busy": "2025-06-01T07:36:53.219224Z",
     "iopub.status.idle": "2025-06-01T07:36:53.223386Z",
     "shell.execute_reply": "2025-06-01T07:36:53.222760Z"
    },
    "papermill": {
     "duration": 0.012069,
     "end_time": "2025-06-01T07:36:53.224459",
     "exception": false,
     "start_time": "2025-06-01T07:36:53.212390",
     "status": "completed"
    },
    "tags": []
   },
   "outputs": [
    {
     "name": "stdout",
     "output_type": "stream",
     "text": [
      "Jumlah sampel X: 100250\n",
      "Jumlah sampel y: 100250\n"
     ]
    }
   ],
   "source": [
    "# Verifikasi bahwa X dan y tidak kosong\n",
    "print(\"Jumlah sampel X:\", len(X))\n",
    "print(\"Jumlah sampel y:\", len(y))\n",
    "if len(X) == 0 or len(y) == 0:\n",
    "    print(\"X atau y kosong. Periksa preprocessing atau encoding.\")\n",
    "    raise ValueError(\"X atau y kosong.\")"
   ]
  },
  {
   "cell_type": "code",
   "execution_count": 13,
   "id": "d198957e",
   "metadata": {
    "execution": {
     "iopub.execute_input": "2025-06-01T07:36:53.237722Z",
     "iopub.status.busy": "2025-06-01T07:36:53.237492Z",
     "iopub.status.idle": "2025-06-01T07:36:53.309499Z",
     "shell.execute_reply": "2025-06-01T07:36:53.308944Z"
    },
    "papermill": {
     "duration": 0.080132,
     "end_time": "2025-06-01T07:36:53.310817",
     "exception": false,
     "start_time": "2025-06-01T07:36:53.230685",
     "status": "completed"
    },
    "tags": []
   },
   "outputs": [],
   "source": [
    "# Split data: 80% pelatihan, 10% validasi, 10% pengujian\n",
    "X_train, X_temp, y_train, y_temp = train_test_split(X, y, test_size=0.2, random_state=42, stratify=y)\n",
    "X_val, X_test, y_val, y_test = train_test_split(X_temp, y_temp, test_size=0.5, random_state=42, stratify=y_temp)\n"
   ]
  },
  {
   "cell_type": "code",
   "execution_count": 14,
   "id": "be466253",
   "metadata": {
    "execution": {
     "iopub.execute_input": "2025-06-01T07:36:53.324587Z",
     "iopub.status.busy": "2025-06-01T07:36:53.324338Z",
     "iopub.status.idle": "2025-06-01T07:36:53.418697Z",
     "shell.execute_reply": "2025-06-01T07:36:53.417868Z"
    },
    "papermill": {
     "duration": 0.102716,
     "end_time": "2025-06-01T07:36:53.420239",
     "exception": false,
     "start_time": "2025-06-01T07:36:53.317523",
     "status": "completed"
    },
    "tags": []
   },
   "outputs": [],
   "source": [
    "# Normalisasi fitur\n",
    "scaler = StandardScaler()\n",
    "X_train = scaler.fit_transform(X_train)\n",
    "X_val = scaler.transform(X_val)\n",
    "X_test = scaler.transform(X_test)"
   ]
  },
  {
   "cell_type": "code",
   "execution_count": 15,
   "id": "4b9bd2f5",
   "metadata": {
    "execution": {
     "iopub.execute_input": "2025-06-01T07:36:53.435275Z",
     "iopub.status.busy": "2025-06-01T07:36:53.434515Z",
     "iopub.status.idle": "2025-06-01T07:36:53.439332Z",
     "shell.execute_reply": "2025-06-01T07:36:53.438767Z"
    },
    "papermill": {
     "duration": 0.012936,
     "end_time": "2025-06-01T07:36:53.440378",
     "exception": false,
     "start_time": "2025-06-01T07:36:53.427442",
     "status": "completed"
    },
    "tags": []
   },
   "outputs": [
    {
     "name": "stdout",
     "output_type": "stream",
     "text": [
      "Scaler parameters saved as scaler_mean.npy and scaler_std.npy\n"
     ]
    }
   ],
   "source": [
    "# Simpan parameter normalisasi\n",
    "mean_values = scaler.mean_\n",
    "std_values = scaler.scale_\n",
    "np.save('scaler_mean.npy', mean_values)\n",
    "np.save('scaler_std.npy', std_values)\n",
    "print('Scaler parameters saved as scaler_mean.npy and scaler_std.npy')"
   ]
  },
  {
   "cell_type": "code",
   "execution_count": 16,
   "id": "3594edc5",
   "metadata": {
    "execution": {
     "iopub.execute_input": "2025-06-01T07:36:53.459593Z",
     "iopub.status.busy": "2025-06-01T07:36:53.459188Z",
     "iopub.status.idle": "2025-06-01T07:36:54.349485Z",
     "shell.execute_reply": "2025-06-01T07:36:54.348710Z"
    },
    "papermill": {
     "duration": 0.902946,
     "end_time": "2025-06-01T07:36:54.350690",
     "exception": false,
     "start_time": "2025-06-01T07:36:53.447744",
     "status": "completed"
    },
    "tags": []
   },
   "outputs": [
    {
     "name": "stdout",
     "output_type": "stream",
     "text": [
      "Jumlah sampel setelah SMOTE: 231400\n"
     ]
    }
   ],
   "source": [
    "from imblearn.over_sampling import SMOTE\n",
    "# Tangani ketidakseimbangan kelas dengan SMOTE (opsional)\n",
    "smote = SMOTE(random_state=42)\n",
    "X_train, y_train = smote.fit_resample(X_train, y_train)\n",
    "print('Jumlah sampel setelah SMOTE:', X_train.shape[0])"
   ]
  },
  {
   "cell_type": "code",
   "execution_count": 17,
   "id": "23956571",
   "metadata": {
    "execution": {
     "iopub.execute_input": "2025-06-01T07:36:54.364669Z",
     "iopub.status.busy": "2025-06-01T07:36:54.364152Z",
     "iopub.status.idle": "2025-06-01T07:36:56.902897Z",
     "shell.execute_reply": "2025-06-01T07:36:56.902237Z"
    },
    "papermill": {
     "duration": 2.546887,
     "end_time": "2025-06-01T07:36:56.904247",
     "exception": false,
     "start_time": "2025-06-01T07:36:54.357360",
     "status": "completed"
    },
    "tags": []
   },
   "outputs": [
    {
     "name": "stderr",
     "output_type": "stream",
     "text": [
      "I0000 00:00:1748763415.596144      19 gpu_device.cc:2022] Created device /job:localhost/replica:0/task:0/device:GPU:0 with 15513 MB memory:  -> device: 0, name: Tesla P100-PCIE-16GB, pci bus id: 0000:00:04.0, compute capability: 6.0\n"
     ]
    }
   ],
   "source": [
    "# --- 3. Pembuatan Model Neural Network ---\n",
    "model = tf.keras.Sequential([\n",
    "    tf.keras.layers.InputLayer(batch_input_shape=(None, 4)),\n",
    "    Dense(64, activation='relu'),\n",
    "    Dense(32, activation='relu'),\n",
    "    Dense(16, activation='relu'),\n",
    "    Dense(4, activation='softmax')  # Output: Severely Stunted, Stunted, Normal, Tall\n",
    "])\n"
   ]
  },
  {
   "cell_type": "code",
   "execution_count": 18,
   "id": "def5ca1a",
   "metadata": {
    "execution": {
     "iopub.execute_input": "2025-06-01T07:36:56.918158Z",
     "iopub.status.busy": "2025-06-01T07:36:56.917932Z",
     "iopub.status.idle": "2025-06-01T07:36:56.929285Z",
     "shell.execute_reply": "2025-06-01T07:36:56.928594Z"
    },
    "papermill": {
     "duration": 0.019446,
     "end_time": "2025-06-01T07:36:56.930397",
     "exception": false,
     "start_time": "2025-06-01T07:36:56.910951",
     "status": "completed"
    },
    "tags": []
   },
   "outputs": [],
   "source": [
    "# Kompilasi model\n",
    "model.compile(\n",
    "    optimizer='adam',\n",
    "    loss='sparse_categorical_crossentropy',\n",
    "    metrics=['accuracy']\n",
    ")"
   ]
  },
  {
   "cell_type": "code",
   "execution_count": 19,
   "id": "449fe148",
   "metadata": {
    "execution": {
     "iopub.execute_input": "2025-06-01T07:36:56.943937Z",
     "iopub.status.busy": "2025-06-01T07:36:56.943721Z",
     "iopub.status.idle": "2025-06-01T07:36:56.946931Z",
     "shell.execute_reply": "2025-06-01T07:36:56.946421Z"
    },
    "papermill": {
     "duration": 0.011257,
     "end_time": "2025-06-01T07:36:56.947998",
     "exception": false,
     "start_time": "2025-06-01T07:36:56.936741",
     "status": "completed"
    },
    "tags": []
   },
   "outputs": [],
   "source": [
    "# --- 4. Pelatihan Model ---\n",
    "early_stopping = tf.keras.callbacks.EarlyStopping(\n",
    "    monitor='val_loss',\n",
    "    patience=10,\n",
    "    restore_best_weights=True\n",
    ")\n"
   ]
  },
  {
   "cell_type": "code",
   "execution_count": 20,
   "id": "6ebd7efc",
   "metadata": {
    "execution": {
     "iopub.execute_input": "2025-06-01T07:36:56.961250Z",
     "iopub.status.busy": "2025-06-01T07:36:56.961038Z",
     "iopub.status.idle": "2025-06-01T07:40:44.299096Z",
     "shell.execute_reply": "2025-06-01T07:40:44.298415Z"
    },
    "papermill": {
     "duration": 227.346079,
     "end_time": "2025-06-01T07:40:44.300405",
     "exception": false,
     "start_time": "2025-06-01T07:36:56.954326",
     "status": "completed"
    },
    "tags": []
   },
   "outputs": [
    {
     "name": "stdout",
     "output_type": "stream",
     "text": [
      "Epoch 1/100\n"
     ]
    },
    {
     "name": "stderr",
     "output_type": "stream",
     "text": [
      "WARNING: All log messages before absl::InitializeLog() is called are written to STDERR\n",
      "I0000 00:00:1748763418.558561      80 service.cc:148] XLA service 0x7ed05c00b970 initialized for platform CUDA (this does not guarantee that XLA will be used). Devices:\n",
      "I0000 00:00:1748763418.559449      80 service.cc:156]   StreamExecutor device (0): Tesla P100-PCIE-16GB, Compute Capability 6.0\n",
      "I0000 00:00:1748763418.826586      80 cuda_dnn.cc:529] Loaded cuDNN version 90300\n"
     ]
    },
    {
     "name": "stdout",
     "output_type": "stream",
     "text": [
      "\u001b[1m  76/3616\u001b[0m \u001b[37m━━━━━━━━━━━━━━━━━━━━\u001b[0m \u001b[1m7s\u001b[0m 2ms/step - accuracy: 0.3885 - loss: 1.3048"
     ]
    },
    {
     "name": "stderr",
     "output_type": "stream",
     "text": [
      "I0000 00:00:1748763419.562979      80 device_compiler.h:188] Compiled cluster using XLA!  This line is logged at most once for the lifetime of the process.\n"
     ]
    },
    {
     "name": "stdout",
     "output_type": "stream",
     "text": [
      "\u001b[1m3616/3616\u001b[0m \u001b[32m━━━━━━━━━━━━━━━━━━━━\u001b[0m\u001b[37m\u001b[0m \u001b[1m12s\u001b[0m 3ms/step - accuracy: 0.8329 - loss: 0.4124 - val_accuracy: 0.9506 - val_loss: 0.1078\n",
      "Epoch 2/100\n",
      "\u001b[1m3616/3616\u001b[0m \u001b[32m━━━━━━━━━━━━━━━━━━━━\u001b[0m\u001b[37m\u001b[0m \u001b[1m8s\u001b[0m 2ms/step - accuracy: 0.9703 - loss: 0.0840 - val_accuracy: 0.9571 - val_loss: 0.0998\n",
      "Epoch 3/100\n",
      "\u001b[1m3616/3616\u001b[0m \u001b[32m━━━━━━━━━━━━━━━━━━━━\u001b[0m\u001b[37m\u001b[0m \u001b[1m8s\u001b[0m 2ms/step - accuracy: 0.9766 - loss: 0.0657 - val_accuracy: 0.9483 - val_loss: 0.1278\n",
      "Epoch 4/100\n",
      "\u001b[1m3616/3616\u001b[0m \u001b[32m━━━━━━━━━━━━━━━━━━━━\u001b[0m\u001b[37m\u001b[0m \u001b[1m8s\u001b[0m 2ms/step - accuracy: 0.9777 - loss: 0.0627 - val_accuracy: 0.9482 - val_loss: 0.2045\n",
      "Epoch 5/100\n",
      "\u001b[1m3616/3616\u001b[0m \u001b[32m━━━━━━━━━━━━━━━━━━━━\u001b[0m\u001b[37m\u001b[0m \u001b[1m8s\u001b[0m 2ms/step - accuracy: 0.9804 - loss: 0.0548 - val_accuracy: 0.9583 - val_loss: 0.1223\n",
      "Epoch 6/100\n",
      "\u001b[1m3616/3616\u001b[0m \u001b[32m━━━━━━━━━━━━━━━━━━━━\u001b[0m\u001b[37m\u001b[0m \u001b[1m8s\u001b[0m 2ms/step - accuracy: 0.9797 - loss: 0.0550 - val_accuracy: 0.9655 - val_loss: 0.0906\n",
      "Epoch 7/100\n",
      "\u001b[1m3616/3616\u001b[0m \u001b[32m━━━━━━━━━━━━━━━━━━━━\u001b[0m\u001b[37m\u001b[0m \u001b[1m8s\u001b[0m 2ms/step - accuracy: 0.9810 - loss: 0.0508 - val_accuracy: 0.9647 - val_loss: 0.0897\n",
      "Epoch 8/100\n",
      "\u001b[1m3616/3616\u001b[0m \u001b[32m━━━━━━━━━━━━━━━━━━━━\u001b[0m\u001b[37m\u001b[0m \u001b[1m8s\u001b[0m 2ms/step - accuracy: 0.9814 - loss: 0.0490 - val_accuracy: 0.9761 - val_loss: 0.0526\n",
      "Epoch 9/100\n",
      "\u001b[1m3616/3616\u001b[0m \u001b[32m━━━━━━━━━━━━━━━━━━━━\u001b[0m\u001b[37m\u001b[0m \u001b[1m8s\u001b[0m 2ms/step - accuracy: 0.9820 - loss: 0.0492 - val_accuracy: 0.9649 - val_loss: 0.1068\n",
      "Epoch 10/100\n",
      "\u001b[1m3616/3616\u001b[0m \u001b[32m━━━━━━━━━━━━━━━━━━━━\u001b[0m\u001b[37m\u001b[0m \u001b[1m8s\u001b[0m 2ms/step - accuracy: 0.9828 - loss: 0.0465 - val_accuracy: 0.9821 - val_loss: 0.0412\n",
      "Epoch 11/100\n",
      "\u001b[1m3616/3616\u001b[0m \u001b[32m━━━━━━━━━━━━━━━━━━━━\u001b[0m\u001b[37m\u001b[0m \u001b[1m8s\u001b[0m 2ms/step - accuracy: 0.9825 - loss: 0.0475 - val_accuracy: 0.9725 - val_loss: 0.0701\n",
      "Epoch 12/100\n",
      "\u001b[1m3616/3616\u001b[0m \u001b[32m━━━━━━━━━━━━━━━━━━━━\u001b[0m\u001b[37m\u001b[0m \u001b[1m8s\u001b[0m 2ms/step - accuracy: 0.9832 - loss: 0.0448 - val_accuracy: 0.9780 - val_loss: 0.0551\n",
      "Epoch 13/100\n",
      "\u001b[1m3616/3616\u001b[0m \u001b[32m━━━━━━━━━━━━━━━━━━━━\u001b[0m\u001b[37m\u001b[0m \u001b[1m8s\u001b[0m 2ms/step - accuracy: 0.9844 - loss: 0.0427 - val_accuracy: 0.9686 - val_loss: 0.0717\n",
      "Epoch 14/100\n",
      "\u001b[1m3616/3616\u001b[0m \u001b[32m━━━━━━━━━━━━━━━━━━━━\u001b[0m\u001b[37m\u001b[0m \u001b[1m8s\u001b[0m 2ms/step - accuracy: 0.9835 - loss: 0.0449 - val_accuracy: 0.9663 - val_loss: 0.0935\n",
      "Epoch 15/100\n",
      "\u001b[1m3616/3616\u001b[0m \u001b[32m━━━━━━━━━━━━━━━━━━━━\u001b[0m\u001b[37m\u001b[0m \u001b[1m8s\u001b[0m 2ms/step - accuracy: 0.9838 - loss: 0.0438 - val_accuracy: 0.9799 - val_loss: 0.0507\n",
      "Epoch 16/100\n",
      "\u001b[1m3616/3616\u001b[0m \u001b[32m━━━━━━━━━━━━━━━━━━━━\u001b[0m\u001b[37m\u001b[0m \u001b[1m8s\u001b[0m 2ms/step - accuracy: 0.9853 - loss: 0.0402 - val_accuracy: 0.9635 - val_loss: 0.1296\n",
      "Epoch 17/100\n",
      "\u001b[1m3616/3616\u001b[0m \u001b[32m━━━━━━━━━━━━━━━━━━━━\u001b[0m\u001b[37m\u001b[0m \u001b[1m8s\u001b[0m 2ms/step - accuracy: 0.9855 - loss: 0.0406 - val_accuracy: 0.9764 - val_loss: 0.0523\n",
      "Epoch 18/100\n",
      "\u001b[1m3616/3616\u001b[0m \u001b[32m━━━━━━━━━━━━━━━━━━━━\u001b[0m\u001b[37m\u001b[0m \u001b[1m8s\u001b[0m 2ms/step - accuracy: 0.9846 - loss: 0.0418 - val_accuracy: 0.9866 - val_loss: 0.0306\n",
      "Epoch 19/100\n",
      "\u001b[1m3616/3616\u001b[0m \u001b[32m━━━━━━━━━━━━━━━━━━━━\u001b[0m\u001b[37m\u001b[0m \u001b[1m8s\u001b[0m 2ms/step - accuracy: 0.9849 - loss: 0.0416 - val_accuracy: 0.9749 - val_loss: 0.0617\n",
      "Epoch 20/100\n",
      "\u001b[1m3616/3616\u001b[0m \u001b[32m━━━━━━━━━━━━━━━━━━━━\u001b[0m\u001b[37m\u001b[0m \u001b[1m8s\u001b[0m 2ms/step - accuracy: 0.9857 - loss: 0.0390 - val_accuracy: 0.9765 - val_loss: 0.0685\n",
      "Epoch 21/100\n",
      "\u001b[1m3616/3616\u001b[0m \u001b[32m━━━━━━━━━━━━━━━━━━━━\u001b[0m\u001b[37m\u001b[0m \u001b[1m8s\u001b[0m 2ms/step - accuracy: 0.9843 - loss: 0.0425 - val_accuracy: 0.9789 - val_loss: 0.0490\n",
      "Epoch 22/100\n",
      "\u001b[1m3616/3616\u001b[0m \u001b[32m━━━━━━━━━━━━━━━━━━━━\u001b[0m\u001b[37m\u001b[0m \u001b[1m8s\u001b[0m 2ms/step - accuracy: 0.9856 - loss: 0.0394 - val_accuracy: 0.9713 - val_loss: 0.0771\n",
      "Epoch 23/100\n",
      "\u001b[1m3616/3616\u001b[0m \u001b[32m━━━━━━━━━━━━━━━━━━━━\u001b[0m\u001b[37m\u001b[0m \u001b[1m8s\u001b[0m 2ms/step - accuracy: 0.9854 - loss: 0.0394 - val_accuracy: 0.9778 - val_loss: 0.0526\n",
      "Epoch 24/100\n",
      "\u001b[1m3616/3616\u001b[0m \u001b[32m━━━━━━━━━━━━━━━━━━━━\u001b[0m\u001b[37m\u001b[0m \u001b[1m8s\u001b[0m 2ms/step - accuracy: 0.9869 - loss: 0.0368 - val_accuracy: 0.9712 - val_loss: 0.0695\n",
      "Epoch 25/100\n",
      "\u001b[1m3616/3616\u001b[0m \u001b[32m━━━━━━━━━━━━━━━━━━━━\u001b[0m\u001b[37m\u001b[0m \u001b[1m8s\u001b[0m 2ms/step - accuracy: 0.9856 - loss: 0.0400 - val_accuracy: 0.9789 - val_loss: 0.0585\n",
      "Epoch 26/100\n",
      "\u001b[1m3616/3616\u001b[0m \u001b[32m━━━━━━━━━━━━━━━━━━━━\u001b[0m\u001b[37m\u001b[0m \u001b[1m8s\u001b[0m 2ms/step - accuracy: 0.9870 - loss: 0.0359 - val_accuracy: 0.9689 - val_loss: 0.0829\n",
      "Epoch 27/100\n",
      "\u001b[1m3616/3616\u001b[0m \u001b[32m━━━━━━━━━━━━━━━━━━━━\u001b[0m\u001b[37m\u001b[0m \u001b[1m8s\u001b[0m 2ms/step - accuracy: 0.9862 - loss: 0.0371 - val_accuracy: 0.9728 - val_loss: 0.0813\n",
      "Epoch 28/100\n",
      "\u001b[1m3616/3616\u001b[0m \u001b[32m━━━━━━━━━━━━━━━━━━━━\u001b[0m\u001b[37m\u001b[0m \u001b[1m8s\u001b[0m 2ms/step - accuracy: 0.9868 - loss: 0.0366 - val_accuracy: 0.9844 - val_loss: 0.0385\n"
     ]
    }
   ],
   "source": [
    "history = model.fit(\n",
    "    X_train, y_train,\n",
    "    validation_data=(X_val, y_val),\n",
    "    epochs=100,\n",
    "    batch_size=64,\n",
    "    callbacks=[early_stopping],\n",
    "    verbose=1\n",
    ")"
   ]
  },
  {
   "cell_type": "code",
   "execution_count": 21,
   "id": "4a54c91e",
   "metadata": {
    "execution": {
     "iopub.execute_input": "2025-06-01T07:40:44.662995Z",
     "iopub.status.busy": "2025-06-01T07:40:44.662277Z",
     "iopub.status.idle": "2025-06-01T07:40:46.808363Z",
     "shell.execute_reply": "2025-06-01T07:40:46.807616Z"
    },
    "papermill": {
     "duration": 2.32922,
     "end_time": "2025-06-01T07:40:46.809640",
     "exception": false,
     "start_time": "2025-06-01T07:40:44.480420",
     "status": "completed"
    },
    "tags": []
   },
   "outputs": [
    {
     "name": "stdout",
     "output_type": "stream",
     "text": [
      "\u001b[1m314/314\u001b[0m \u001b[32m━━━━━━━━━━━━━━━━━━━━\u001b[0m\u001b[37m\u001b[0m \u001b[1m1s\u001b[0m 2ms/step\n",
      "Akurasi Pengujian: 0.9875\n",
      "F1-Score Pengujian: 0.9877\n"
     ]
    }
   ],
   "source": [
    "# --- 5. Evaluasi Model ---\n",
    "test_loss, test_accuracy = model.evaluate(X_test, y_test, verbose=0)\n",
    "y_pred = np.argmax(model.predict(X_test), axis=1)\n",
    "f1 = f1_score(y_test, y_pred, average='weighted')\n",
    "\n",
    "print(f'Akurasi Pengujian: {test_accuracy:.4f}')\n",
    "print(f'F1-Score Pengujian: {f1:.4f}')"
   ]
  },
  {
   "cell_type": "code",
   "execution_count": 22,
   "id": "3cb03718",
   "metadata": {
    "execution": {
     "iopub.execute_input": "2025-06-01T07:40:47.169905Z",
     "iopub.status.busy": "2025-06-01T07:40:47.169330Z",
     "iopub.status.idle": "2025-06-01T07:40:47.204156Z",
     "shell.execute_reply": "2025-06-01T07:40:47.203564Z"
    },
    "papermill": {
     "duration": 0.217697,
     "end_time": "2025-06-01T07:40:47.205451",
     "exception": false,
     "start_time": "2025-06-01T07:40:46.987754",
     "status": "completed"
    },
    "tags": []
   },
   "outputs": [],
   "source": [
    "# --- 6. Eksport Model ---\n",
    "model.save('stunting_model.h5')"
   ]
  },
  {
   "cell_type": "code",
   "execution_count": 23,
   "id": "1a8fb859",
   "metadata": {
    "execution": {
     "iopub.execute_input": "2025-06-01T07:40:47.618041Z",
     "iopub.status.busy": "2025-06-01T07:40:47.617456Z",
     "iopub.status.idle": "2025-06-01T07:40:47.659514Z",
     "shell.execute_reply": "2025-06-01T07:40:47.658774Z"
    },
    "papermill": {
     "duration": 0.221182,
     "end_time": "2025-06-01T07:40:47.660680",
     "exception": false,
     "start_time": "2025-06-01T07:40:47.439498",
     "status": "completed"
    },
    "tags": []
   },
   "outputs": [
    {
     "name": "stdout",
     "output_type": "stream",
     "text": [
      "✅ Nilai BB/TB normal disimpan ke 'normal_values.csv'\n"
     ]
    }
   ],
   "source": [
    "# --- Menghitung BB/TB Normal dari Dataset ---\n",
    "def calculate_normal_values(df):\n",
    "    \"\"\"\n",
    "    Menghitung rata-rata BB dan TB untuk kelas 'Normal' berdasarkan usia dan jenis kelamin.\n",
    "    \"\"\"\n",
    "    try:\n",
    "        normal_df = df[df['Stunting'] == 2]  # Filter untuk kelas Normal\n",
    "        if normal_df.empty:\n",
    "            raise ValueError(\"Tidak ada data untuk kelas 'Normal' dalam dataset.\")\n",
    "        normal_values = normal_df.groupby(['Umur (bulan)', 'Jenis Kelamin']).agg({\n",
    "            'Tinggi Badan (cm)': 'mean',\n",
    "            'Berat Badan (kg)': 'mean'\n",
    "        }).reset_index()\n",
    "        return normal_values\n",
    "    except Exception as e:\n",
    "        print(f\"Error saat menghitung nilai normal: {e}\")\n",
    "        return None\n",
    "\n",
    "normal_values = calculate_normal_values(df)\n",
    "normal_values.to_csv('normal_values.csv', index=False)\n",
    "print(\"✅ Nilai BB/TB normal disimpan ke 'normal_values.csv'\")"
   ]
  },
  {
   "cell_type": "code",
   "execution_count": 24,
   "id": "e5dca476",
   "metadata": {
    "execution": {
     "iopub.execute_input": "2025-06-01T07:40:48.022061Z",
     "iopub.status.busy": "2025-06-01T07:40:48.021418Z",
     "iopub.status.idle": "2025-06-01T07:40:48.027474Z",
     "shell.execute_reply": "2025-06-01T07:40:48.026909Z"
    },
    "papermill": {
     "duration": 0.185591,
     "end_time": "2025-06-01T07:40:48.028639",
     "exception": false,
     "start_time": "2025-06-01T07:40:47.843048",
     "status": "completed"
    },
    "tags": []
   },
   "outputs": [],
   "source": [
    "def get_normal_values(age, gender, normal_values_df):\n",
    "    try:\n",
    "        gender_encoded = 0 if gender == 'Laki-laki' else 1\n",
    "        age = int(age)\n",
    "        # Try exact match first\n",
    "        normal_row = normal_values_df[(normal_values_df['Umur (bulan)'] == age) &\n",
    "                                     (normal_values_df['Jenis Kelamin'] == gender_encoded)]\n",
    "        if not normal_row.empty:\n",
    "            return (normal_row['Tinggi Badan (cm)'].iloc[0],\n",
    "                    normal_row['Berat Badan (kg)'].iloc[0])\n",
    "        \n",
    "        # If no exact match, find the closest age\n",
    "        print(f\"Tidak ada data untuk usia {age} bulan. Mencari usia terdekat...\")\n",
    "        available_ages = normal_values_df[normal_values_df['Jenis Kelamin'] == gender_encoded]['Umur (bulan)'].unique()\n",
    "        if len(available_ages) == 0:\n",
    "            print(f\"Tidak ada data untuk Jenis Kelamin {gender}.\")\n",
    "            return None, None\n",
    "        closest_age = available_ages[np.argmin(np.abs(available_ages - age))]\n",
    "        normal_row = normal_values_df[(normal_values_df['Umur (bulan)'] == closest_age) &\n",
    "                                     (normal_values_df['Jenis Kelamin'] == gender_encoded)]\n",
    "        if not normal_row.empty:\n",
    "            print(f\"Menggunakan data untuk usia {closest_age} bulan sebagai ganti.\")\n",
    "            return (normal_row['Tinggi Badan (cm)'].iloc[0],\n",
    "                    normal_row['Berat Badan (kg)'].iloc[0])\n",
    "        else:\n",
    "            return None, None\n",
    "    except Exception as e:\n",
    "        print(f\"Error saat mendapatkan nilai normal: {e}\")\n",
    "        return None, None"
   ]
  },
  {
   "cell_type": "code",
   "execution_count": 25,
   "id": "e93c5135",
   "metadata": {
    "execution": {
     "iopub.execute_input": "2025-06-01T07:40:48.380704Z",
     "iopub.status.busy": "2025-06-01T07:40:48.380409Z",
     "iopub.status.idle": "2025-06-01T07:40:48.396104Z",
     "shell.execute_reply": "2025-06-01T07:40:48.395302Z"
    },
    "papermill": {
     "duration": 0.194341,
     "end_time": "2025-06-01T07:40:48.397347",
     "exception": false,
     "start_time": "2025-06-01T07:40:48.203006",
     "status": "completed"
    },
    "tags": []
   },
   "outputs": [],
   "source": [
    "# --- Kode Inferensi dengan Persentase dan Validasi ---\n",
    "def predict_stunting(age, gender, height, weight, model_path='stunting_model.h5',\n",
    "                    mean_path='scaler_mean.npy', std_path='scaler_std.npy',\n",
    "                    normal_values_path='normal_values.csv'):\n",
    "    try:\n",
    "        # Validasi input\n",
    "        if not isinstance(age, (int, float)) or age < 0:\n",
    "            raise ValueError(\"Umur harus berupa angka positif.\")\n",
    "        if gender not in ['Laki-laki', 'Perempuan']:\n",
    "            raise ValueError(\"Jenis kelamin harus 'Laki-laki' atau 'Perempuan'.\")\n",
    "        if not isinstance(height, (int, float)) or height <= 0:\n",
    "            raise ValueError(\"Tinggi badan harus berupa angka positif.\")\n",
    "        if not isinstance(weight, (int, float)) or weight <= 0:\n",
    "            raise ValueError(\"Berat badan harus berupa angka positif.\")\n",
    "\n",
    "        # Periksa keberadaan file\n",
    "        for path in [model_path, mean_path, std_path, normal_values_path]:\n",
    "            if not os.path.exists(path):\n",
    "                raise FileNotFoundError(f\"File tidak ditemukan: {path}\")\n",
    "\n",
    "        # Muat model\n",
    "        model = tf.keras.models.load_model(model_path)\n",
    "\n",
    "        # Muat parameter normalisasi\n",
    "        mean_values = np.load(mean_path)\n",
    "        std_values = np.load(std_path)\n",
    "\n",
    "        # Muat nilai BB/TB normal\n",
    "        normal_values_df = pd.read_csv(normal_values_path)\n",
    "        if normal_values_df.empty:\n",
    "            raise ValueError(\"File normal_values.csv kosong atau tidak valid.\")\n",
    "\n",
    "        # Encode gender\n",
    "        gender_encoded = 0 if gender == 'Laki-laki' else 1\n",
    "\n",
    "        # Siapkan data masukan\n",
    "        input_data = np.array([[age, gender_encoded, height, weight]], dtype=np.float32)\n",
    "\n",
    "        # Normalisasi data masukan\n",
    "        input_data = (input_data - mean_values) / std_values\n",
    "\n",
    "        # Lakukan prediksi\n",
    "        prediction = model.predict(input_data)\n",
    "        predicted_class_index = np.argmax(prediction, axis=1)[0]\n",
    "        \n",
    "        raw_confidence = prediction[0][predicted_class_index] * 100\n",
    "        confidence = min(raw_confidence * 0.9, 90.0)  # Skala 90% dan batasi maksimum 90%\n",
    "        confidence = round(confidence)\n",
    "\n",
    "        # Mapping indeks ke label dengan penjelasan\n",
    "        labels = {\n",
    "            0: {'status': 'Severely Stunted'},\n",
    "            1: {'status': 'Stunted'},\n",
    "            2: {'status': 'Normal'},\n",
    "            3: {'status': 'Tall'}\n",
    "        }\n",
    "        stunting_status = labels[predicted_class_index]['status']\n",
    "\n",
    "        # Dapatkan rekomendasi gizi\n",
    "        nutrition_recommendation = get_nutrition_recommendation(stunting_status, age)\n",
    "\n",
    "        # Dapatkan BB/TB normal dari dataset\n",
    "        tb_normal, bb_normal = get_normal_values(age, gender, normal_values_df)\n",
    "\n",
    "        # Hitung persentase selisih dan validasi\n",
    "        additional_info = {}\n",
    "        if tb_normal is not None and bb_normal is not None:\n",
    "            # Hitung perbedaan persentase dan bulatkan ke dua desimal\n",
    "            persentase_tb = round(((tb_normal - height) / tb_normal) * 100, 2)\n",
    "            persentase_bb = round(((bb_normal - weight) / bb_normal) * 100, 2)\n",
    "\n",
    "            # Tentukan ambang batas untuk perbedaan yang dianggap kecil\n",
    "            threshold = 0.1\n",
    "\n",
    "            # Penjelasan tinggi badan\n",
    "            if abs(persentase_tb) < threshold:\n",
    "                tb_explanation = \"Tinggi badan anak sesuai dengan rata-rata untuk usianya.\"\n",
    "            elif persentase_tb > 0:\n",
    "                tb_explanation = f\"Tinggi badan anak {persentase_tb}% lebih pendek dibandingkan rata-rata untuk anak {gender} usia {age} bulan.\"\n",
    "            else:\n",
    "                tb_explanation = f\"Tinggi badan anak {-persentase_tb}% lebih tinggi dibandingkan rata-rata untuk anak {gender} usia {age} bulan.\"\n",
    "\n",
    "            # Penjelasan berat badan\n",
    "            if abs(persentase_bb) < threshold:\n",
    "                bb_explanation = \"Berat badan anak sesuai rata-rata untuk usianya.\"\n",
    "            elif persentase_bb > 0:\n",
    "                bb_explanation = f\"Berat badan anak {persentase_bb}% lebih ringan dibandingkan rata-rata untuk anak {gender} usia {age} bulan.\"\n",
    "            else:\n",
    "                bb_explanation = f\"Berat badan anak {-persentase_bb}% lebih berat dibandingkan rata-rata untuk anak {gender} usia {age} bulan.\"\n",
    "\n",
    "            # Status keseluruhan\n",
    "            if abs(persentase_tb) < threshold and abs(persentase_bb) < threshold:\n",
    "                keseluruhan_explanation = \"Secara keseluruhan, pertumbuhan anak dalam rentang normal untuk usianya.\"\n",
    "            else:\n",
    "                persentase_keseluruhan = (persentase_tb + persentase_bb) / 2\n",
    "                persentase_keseluruhan = round(persentase_keseluruhan, 2)\n",
    "                if persentase_keseluruhan > 0:\n",
    "                    keseluruhan_explanation = f\"Secara keseluruhan, pertumbuhan anak {persentase_keseluruhan}% di bawah rata-rata untuk anak {gender} usia {age} bulan.\"\n",
    "                elif persentase_keseluruhan < 0:\n",
    "                    keseluruhan_explanation = f\"Secara keseluruhan, pertumbuhan anak {-persentase_keseluruhan}% di atas rata-rata untuk anak {gender} usia {age} bulan.\"\n",
    "                else:\n",
    "                    keseluruhan_explanation = \"Secara keseluruhan, pertumbuhan anak sesuai dengan rata-rata untuk usianya.\"\n",
    "\n",
    "            # Validasi\n",
    "            warning = None\n",
    "            if abs(persentase_tb) < 5 and abs(persentase_bb) < 5 and predicted_class_index in [0, 1]:\n",
    "                warning = (\"Tinggi dan berat badan anak sudah mendekati rata-rata, tetapi model memprediksi anak masih stunting. \"\n",
    "                          \"Ini mungkin karena data yang digunakan untuk melatih model. \"\n",
    "                          \"Sebaiknya konsultasikan dengan dokter atau ahli gizi untuk pemeriksaan lebih lanjut.\")\n",
    "\n",
    "            additional_info = {\n",
    "                'tb_normal': round(tb_normal, 1),  # Sesuai presisi input tinggi badan\n",
    "                'bb_normal': round(bb_normal, 2),  # Sesuai presisi input berat badan\n",
    "                'persentase_tb': persentase_tb,\n",
    "                'tb_explanation': tb_explanation,\n",
    "                'persentase_bb': persentase_bb,\n",
    "                'bb_explanation': bb_explanation,\n",
    "                'persentase_keseluruhan': persentase_keseluruhan if not (abs(persentase_tb) < threshold and abs(persentase_bb) < threshold) else 0,\n",
    "                'keseluruhan_explanation': keseluruhan_explanation,\n",
    "                'warning': warning\n",
    "            }\n",
    "        else:\n",
    "            additional_info = {\n",
    "                'tb_normal': 'Data tidak tersedia',\n",
    "                'bb_normal': 'Data tidak tersedia',\n",
    "                'persentase_tb': 'Tidak dapat dihitung',\n",
    "                'tb_explanation': 'Tidak ada data rata-rata untuk usia ini dalam dataset.',\n",
    "                'persentase_bb': 'Tidak dapat dihitung',\n",
    "                'bb_explanation': 'Tidak ada data rata-rata untuk usia ini dalam dataset.',\n",
    "                'persentase_keseluruhan': 'Tidak dapat dihitung',\n",
    "                'keseluruhan_explanation': 'Tidak ada data rata-rata untuk usia ini dalam dataset.',\n",
    "                'warning': 'Data rata-rata tinggi dan berat badan tidak tersedia untuk usia ini.'\n",
    "            }\n",
    "\n",
    "        return {\n",
    "            'age': age,\n",
    "            'gender': gender,\n",
    "            'height': height,\n",
    "            'weight': weight,\n",
    "            'stunting_status': stunting_status,\n",
    "            'confidence': confidence,\n",
    "            'nutrition_recommendation': nutrition_recommendation,\n",
    "            'additional_info': additional_info\n",
    "        }\n",
    "    except Exception as e:\n",
    "        print(f\"Error dalam predict_stunting: {e}\")\n",
    "        return None"
   ]
  },
  {
   "cell_type": "code",
   "execution_count": 26,
   "id": "8523d0c5",
   "metadata": {
    "execution": {
     "iopub.execute_input": "2025-06-01T07:40:48.842333Z",
     "iopub.status.busy": "2025-06-01T07:40:48.841863Z",
     "iopub.status.idle": "2025-06-01T07:40:48.848511Z",
     "shell.execute_reply": "2025-06-01T07:40:48.847937Z"
    },
    "papermill": {
     "duration": 0.238507,
     "end_time": "2025-06-01T07:40:48.849601",
     "exception": false,
     "start_time": "2025-06-01T07:40:48.611094",
     "status": "completed"
    },
    "tags": []
   },
   "outputs": [],
   "source": [
    "# --- Rekomendasi Gizi (Rule-Based) ---\n",
    "def get_nutrition_recommendation(stunting_status, age):\n",
    "    recommendations = {\n",
    "        'Severely Stunted': {\n",
    "            'description': 'Anak mengalami stunting berat. Perlu intervensi gizi intensif dan konsultasi medis.',\n",
    "            'food': ['Susu tinggi protein (sesuai usia)', 'Bubur kacang hijau', 'Telur rebus', 'Ikan salmon/teri', 'Sayur bayam'],\n",
    "            'frequency': '6-8 kali/hari (porsi kecil, 50-100g per porsi)',\n",
    "            'supplements': 'Konsultasi dokter untuk suplemen zat besi, zinc, dan vitamin A.',\n",
    "            'notes': 'Pantau berat dan tinggi setiap 2 minggu. Libatkan puskesmas.'\n",
    "        },\n",
    "        'Stunted': {\n",
    "            'description': 'Anak mengalami stunting ringan. Perbaikan gizi diperlukan untuk pertumbuhan optimal.',\n",
    "            'food': ['Susu full cream', 'Nasi tim dengan ayam', 'Tempe goreng', 'Brokoli kukus', 'Pisang'],\n",
    "            'frequency': '5-6 kali/hari (porsi sedang, 100-150g per porsi)',\n",
    "            'supplements': 'Multivitamin anak (dosis sesuai usia).',\n",
    "            'notes': 'Tingkatkan asupan protein dan kalori. Konsultasi gizi jika tidak membaik dalam 1 bulan.'\n",
    "        },\n",
    "        'Normal': {\n",
    "            'description': 'Pertumbuhan anak normal. Pertahankan pola makan seimbang.',\n",
    "            'food': ['Nasi/ubi', 'Ayam/daging sapi', 'Sayur kolplay', 'Tahu', 'Buah apel'],\n",
    "            'frequency': '4-5 kali/hari (porsi sesuai usia, 150-200g per porsi)',\n",
    "            'supplements': 'Tidak diperlukan kecuali defisiensi spesifik.',\n",
    "            'notes': 'Pastikan variasi makanan dan aktivitas fisik cukup.'\n",
    "        },\n",
    "        'Tall': {\n",
    "            'description': 'Anak memiliki pertumbuhan di atas rata-rata. Pastikan gizi seimbang untuk mendukung perkembangan.',\n",
    "            'food': ['Roti gandum', 'Ikan tuna', 'Kacang almond', 'Wortel', 'Mangga'],\n",
    "            'frequency': '4-5 kali/hari (porsi sesuai usia, 150-200g per porsi)',\n",
    "            'supplements': 'Tidak diperlukan kecuali aktivitas fisik tinggi.',\n",
    "            'notes': 'Monitor BMI untuk mencegah obesitas.'\n",
    "        }\n",
    "    }\n",
    "\n",
    "    if age < 6:\n",
    "        recommendations['Severely Stunted']['food'] = ['ASI eksklusif atau susu formula khusus']\n",
    "        recommendations['Severely Stunted']['frequency'] = '8-12 kali/hari (sesuai kebutuhan)'\n",
    "        recommendations['Stunted']['food'] = ['ASI eksklusif atau susu formula']\n",
    "        recommendations['Stunted']['frequency'] = '8-12 kali/hari'\n",
    "        recommendations['Normal']['food'] = ['ASI eksklusif atau susu formula']\n",
    "        recommendations['Normal']['frequency'] = '7-8 kali/hari (sesuai kebutuhan)'\n",
    "        recommendations['Tall']['food'] = ['ASI eksklusif atau susu formula']\n",
    "        ecommendations['Tall']['frequency'] = '7-8 kali/hari (sesuai kebutuhan)'\n",
    "\n",
    "    return recommendations.get(stunting_status, {\n",
    "        'description': 'Status tidak dikenali.',\n",
    "        'food': [],\n",
    "        'frequency': '',\n",
    "        'supplements': '',\n",
    "        'notes': ''\n",
    "    })"
   ]
  },
  {
   "cell_type": "code",
   "execution_count": 27,
   "id": "65f968d9",
   "metadata": {
    "execution": {
     "iopub.execute_input": "2025-06-01T07:40:49.202440Z",
     "iopub.status.busy": "2025-06-01T07:40:49.201638Z",
     "iopub.status.idle": "2025-06-01T07:40:49.571091Z",
     "shell.execute_reply": "2025-06-01T07:40:49.570159Z"
    },
    "papermill": {
     "duration": 0.547437,
     "end_time": "2025-06-01T07:40:49.572186",
     "exception": false,
     "start_time": "2025-06-01T07:40:49.024749",
     "status": "completed"
    },
    "tags": []
   },
   "outputs": [
    {
     "name": "stdout",
     "output_type": "stream",
     "text": [
      "\u001b[1m1/1\u001b[0m \u001b[32m━━━━━━━━━━━━━━━━━━━━\u001b[0m\u001b[37m\u001b[0m \u001b[1m0s\u001b[0m 267ms/step\n",
      "=====================================\n",
      "     HASIL PEMERIKSAAN PERTUMBUHAN ANAK     \n",
      "=====================================\n",
      "Nama: (Silakan isi nama anak)\n",
      "Usia: 12 bulan\n",
      "Jenis Kelamin: Perempuan\n",
      "Tinggi Badan: 75 cm\n",
      "Berat Badan: 9 kg\n",
      "\n",
      "--- Status Pertumbuhan ---\n",
      "Hasil: Normal\n",
      "Kemungkinan Hasil Benar: 90%\n",
      "\n",
      "--- Perbandingan dengan Rata-Rata ---\n",
      "Tinggi Badan Rata-Rata: 75.4 cm\n",
      "Berat Badan Rata-Rata: 9.64 kg\n",
      "Selisih Tinggi Badan: Tinggi badan anak 0.5% lebih pendek dibandingkan rata-rata untuk anak Perempuan usia 12 bulan.\n",
      "Selisih Berat Badan: Berat badan anak 6.64% lebih ringan dibandingkan rata-rata untuk anak Perempuan usia 12 bulan.\n",
      "Status Keseluruhan: Secara keseluruhan, pertumbuhan anak 3.57% di bawah rata-rata untuk anak Perempuan usia 12 bulan.\n",
      "\n",
      "--- Rekomendasi untuk Anak ---\n",
      "Deskripsi: Pertumbuhan anak normal. Pertahankan pola makan seimbang.\n",
      "Makanan yang Disarankan: Nasi/ubi, Ayam/daging sapi, Sayur kolplay, Tahu, Buah apel\n",
      "Frekuensi Makan: 4-5 kali/hari (porsi sesuai usia, 150-200g per porsi)\n",
      "Suplemen: Tidak diperlukan kecuali defisiensi spesifik.\n",
      "Catatan Tambahan: Pastikan variasi makanan dan aktivitas fisik cukup.\n",
      "=====================================\n"
     ]
    }
   ],
   "source": [
    "# --- Contoh Penggunaan ---\n",
    "result = predict_stunting(age=12, gender='Perempuan', height=75, weight=9)\n",
    "\n",
    "if result is None:\n",
    "    print(\"Gagal melakukan prediksi. Periksa pesan error di atas untuk detail.\")\n",
    "else:\n",
    "    print(\"=====================================\")\n",
    "    print(\"     HASIL PEMERIKSAAN PERTUMBUHAN ANAK     \")\n",
    "    print(\"=====================================\")\n",
    "    print(f\"Nama: (Silakan isi nama anak)\")\n",
    "    print(f\"Usia: {result['age']} bulan\")\n",
    "    print(f\"Jenis Kelamin: {result['gender']}\")\n",
    "    print(f\"Tinggi Badan: {result['height']} cm\")\n",
    "    print(f\"Berat Badan: {result['weight']} kg\")\n",
    "    print(\"\\n--- Status Pertumbuhan ---\")\n",
    "    print(f\"Hasil: {result['stunting_status']}\")\n",
    "    print(f\"Kemungkinan Hasil Benar: {result['confidence']}%\")\n",
    "    print(\"\\n--- Perbandingan dengan Rata-Rata ---\")\n",
    "    print(f\"Tinggi Badan Rata-Rata: {result['additional_info']['tb_normal']} cm\")\n",
    "    print(f\"Berat Badan Rata-Rata: {result['additional_info']['bb_normal']} kg\")\n",
    "    print(f\"Selisih Tinggi Badan: {result['additional_info']['tb_explanation']}\")\n",
    "    print(f\"Selisih Berat Badan: {result['additional_info']['bb_explanation']}\")\n",
    "    print(f\"Status Keseluruhan: {result['additional_info']['keseluruhan_explanation']}\")\n",
    "    if result['additional_info']['warning']:\n",
    "        print(f\"\\nPeringatan: {result['additional_info']['warning']}\")\n",
    "    print(\"\\n--- Rekomendasi untuk Anak ---\")\n",
    "    print(f\"Deskripsi: {result['nutrition_recommendation']['description']}\")\n",
    "    print(f\"Makanan yang Disarankan: {', '.join(result['nutrition_recommendation']['food'])}\")\n",
    "    print(f\"Frekuensi Makan: {result['nutrition_recommendation']['frequency']}\")\n",
    "    print(f\"Suplemen: {result['nutrition_recommendation']['supplements']}\")\n",
    "    print(f\"Catatan Tambahan: {result['nutrition_recommendation']['notes']}\")\n",
    "    print(\"=====================================\")"
   ]
  }
 ],
 "metadata": {
  "kaggle": {
   "accelerator": "gpu",
   "dataSources": [
    {
     "datasetId": 6103625,
     "sourceId": 10733132,
     "sourceType": "datasetVersion"
    }
   ],
   "dockerImageVersionId": 31041,
   "isGpuEnabled": true,
   "isInternetEnabled": true,
   "language": "python",
   "sourceType": "notebook"
  },
  "kernelspec": {
   "display_name": "Python 3",
   "language": "python",
   "name": "python3"
  },
  "language_info": {
   "codemirror_mode": {
    "name": "ipython",
    "version": 3
   },
   "file_extension": ".py",
   "mimetype": "text/x-python",
   "name": "python",
   "nbconvert_exporter": "python",
   "pygments_lexer": "ipython3",
   "version": "3.11.11"
  },
  "papermill": {
   "default_parameters": {},
   "duration": 299.629151,
   "end_time": "2025-06-01T07:40:53.189043",
   "environment_variables": {},
   "exception": null,
   "input_path": "__notebook__.ipynb",
   "output_path": "__notebook__.ipynb",
   "parameters": {},
   "start_time": "2025-06-01T07:35:53.559892",
   "version": "2.6.0"
  }
 },
 "nbformat": 4,
 "nbformat_minor": 5
}
